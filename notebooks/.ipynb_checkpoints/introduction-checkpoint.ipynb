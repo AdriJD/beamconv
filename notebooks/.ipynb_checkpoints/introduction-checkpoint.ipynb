{
 "cells": [
  {
   "cell_type": "markdown",
   "metadata": {},
   "source": [
    "# Introduction\n",
    "We go over the basic functionality of the code by initializing a detector and creating some time-ordered data. "
   ]
  },
  {
   "cell_type": "markdown",
   "metadata": {},
   "source": [
    "We start by importing the `ScanStrategy`, `Instrument` and `Beam` classes from `beamconv`. We we will also need some functions from `healpy`."
   ]
  },
  {
   "cell_type": "code",
   "execution_count": 1,
   "metadata": {},
   "outputs": [
    {
     "ename": "ModuleNotFoundError",
     "evalue": "No module named 'healpy'",
     "output_type": "error",
     "traceback": [
      "\u001b[1;31m---------------------------------------------------------------------------\u001b[0m",
      "\u001b[1;31mModuleNotFoundError\u001b[0m                       Traceback (most recent call last)",
      "\u001b[1;32m<ipython-input-1-28ea4f8d92b6>\u001b[0m in \u001b[0;36m<module>\u001b[1;34m()\u001b[0m\n\u001b[0;32m      9\u001b[0m \u001b[1;33m\u001b[0m\u001b[0m\n\u001b[0;32m     10\u001b[0m \u001b[1;32mimport\u001b[0m \u001b[0mnumpy\u001b[0m \u001b[1;32mas\u001b[0m \u001b[0mnp\u001b[0m\u001b[1;33m\u001b[0m\u001b[0m\n\u001b[1;32m---> 11\u001b[1;33m \u001b[1;32mimport\u001b[0m \u001b[0mhealpy\u001b[0m \u001b[1;32mas\u001b[0m \u001b[0mhp\u001b[0m\u001b[1;33m\u001b[0m\u001b[0m\n\u001b[0m\u001b[0;32m     12\u001b[0m \u001b[1;32mfrom\u001b[0m \u001b[0mbeamconv\u001b[0m \u001b[1;32mimport\u001b[0m \u001b[0mScanStrategy\u001b[0m\u001b[1;33m\u001b[0m\u001b[0m\n\u001b[0;32m     13\u001b[0m \u001b[1;32mfrom\u001b[0m \u001b[0mbeamconv\u001b[0m \u001b[1;32mimport\u001b[0m \u001b[0mInstrument\u001b[0m\u001b[1;33m\u001b[0m\u001b[0m\n",
      "\u001b[1;31mModuleNotFoundError\u001b[0m: No module named 'healpy'"
     ]
    }
   ],
   "source": [
    "import matplotlib\n",
    "import matplotlib.pyplot as plt\n",
    "fontsize=14\n",
    "matplotlib.rcParams.update({'font.size':fontsize})\n",
    "matplotlib.rcParams.update({'xtick.labelsize':fontsize})\n",
    "matplotlib.rcParams.update({'ytick.labelsize':fontsize})\n",
    "matplotlib.rcParams.update({'axes.labelsize':fontsize})\n",
    "matplotlib.rcParams.update({'lines.markersize': 4})\n",
    "\n",
    "import numpy as np\n",
    "import healpy as hp\n",
    "from beamconv import ScanStrategy\n",
    "from beamconv import Instrument\n",
    "from beamconv import Beam\n",
    "from beamconv import tools"
   ]
  },
  {
   "cell_type": "markdown",
   "metadata": {},
   "source": [
    "For simplicity we will only use a single detector in this example. Detectors are represented by instances of the `Beam` class we just imported. A `Beam` instance contains detector properties such as pointing offsets, but also pointers to the harmonic modes of the actual beam.\n",
    "\n",
    "First lets see what options we are allowed to set set for our `Beam` instance:"
   ]
  },
  {
   "cell_type": "code",
   "execution_count": null,
   "metadata": {
    "collapsed": true
   },
   "outputs": [],
   "source": [
    "?Beam()"
   ]
  },
  {
   "cell_type": "markdown",
   "metadata": {},
   "source": [
    "Let's create a detector without pointing offset (i.e. with beam centre on the telescope's boresight). For now we simply take a Gaussian beam model. We can thus fully specify the beam with the `fwhm` (Full Width at Half Maximum) parameter. Here we pick `fwhm=40`, in units of arcmin. Since the 2D Gaussian is azimuthally symmetric, we may set the `symmetric` option."
   ]
  },
  {
   "cell_type": "code",
   "execution_count": null,
   "metadata": {},
   "outputs": [],
   "source": [
    "beam_opts = dict(az=0, \n",
    "                 el=0,\n",
    "                 polang=0,\n",
    "                 fwhm=40,\n",
    "                 btype='Gaussian', \n",
    "                 lmax=800,\n",
    "                 symmetric=True)\n",
    "beam = Beam(**beam_opts)\n",
    "print(beam)"
   ]
  },
  {
   "cell_type": "markdown",
   "metadata": {},
   "source": [
    "In order to start simulating data we need to initialize a `ScanStrategy` instance that manages the simulated data-taking. `ScanStrategy` inherents from the `Instrument` class, so by initializing it we also initialize an `Instrument` instance. Let's see what both classes need as input:"
   ]
  },
  {
   "cell_type": "code",
   "execution_count": null,
   "metadata": {
    "collapsed": true
   },
   "outputs": [],
   "source": [
    "?Instrument()"
   ]
  },
  {
   "cell_type": "code",
   "execution_count": null,
   "metadata": {
    "collapsed": true
   },
   "outputs": [],
   "source": [
    "?ScanStrategy()"
   ]
  },
  {
   "cell_type": "markdown",
   "metadata": {},
   "source": [
    "For simplicity we pick a preset location for the instrument (the south pole). For the scan strategy we mostly leave the defaults but specify that we would like to simulate one hour of data at a 100 Hz sample rate."
   ]
  },
  {
   "cell_type": "code",
   "execution_count": null,
   "metadata": {
    "collapsed": true
   },
   "outputs": [],
   "source": [
    "instr_opts = dict(location='spole')\n",
    "scan_opts = dict(duration=3600,\n",
    "                 sample_rate=100)\n",
    "scan_opts.update(instr_opts)\n",
    "\n",
    "S = ScanStrategy(**scan_opts)"
   ]
  },
  {
   "cell_type": "markdown",
   "metadata": {},
   "source": [
    "Lets add our beam to the detectors focal plane. Each `Instrument` instance has a `beams` attribute: a list of detector pairs that represent the focal plane. Because we only have a single detector, our detector will have a empty slot as detector partner."
   ]
  },
  {
   "cell_type": "code",
   "execution_count": null,
   "metadata": {},
   "outputs": [],
   "source": [
    "S.add_to_focal_plane(beam)\n",
    "print(S.beams)"
   ]
  },
  {
   "cell_type": "markdown",
   "metadata": {},
   "source": [
    "We now specify the telescope's pointing (the boresight pointing). For this example we use a preset scan strategy: a constant-elevation scanning pattern. To do so, we use the `constant_el_scan()` method of our `ScanStrategy` instance. Lets see what input we need to provide:"
   ]
  },
  {
   "cell_type": "code",
   "execution_count": null,
   "metadata": {
    "collapsed": true
   },
   "outputs": [],
   "source": [
    "?S.constant_el_scan()"
   ]
  },
  {
   "cell_type": "markdown",
   "metadata": {},
   "source": [
    "We leave the scan centre set to its default value (`ra0`, `dec0` = -10, -57.5, which is always visible from the south pole) and set the angular speed and azimuthal width of the scans."
   ]
  },
  {
   "cell_type": "code",
   "execution_count": null,
   "metadata": {
    "collapsed": true
   },
   "outputs": [],
   "source": [
    "const_el_opts = dict(az_throw=50.,\n",
    "                     scan_speed=10.)                 "
   ]
  },
  {
   "cell_type": "markdown",
   "metadata": {},
   "source": [
    "We also need to specify the input sky. We do this by providing the harmonic coefficients of the sky in a tuple containing unpolarized and E-, B-modes: ($a_{\\ell m}$, $a_{E, \\ell m}, a_{B, \\ell m}$). Here we use the coefficients of a Gaussian sky with covariance given by some best-fit WMAP $\\Lambda$CDM power spectrum."
   ]
  },
  {
   "cell_type": "code",
   "execution_count": null,
   "metadata": {
    "collapsed": true
   },
   "outputs": [],
   "source": [
    "cls = np.loadtxt('../ancillary/wmap7_r0p03_lensed_uK_ext.txt',\n",
    "                 unpack=True) # Cl in uK^2\n",
    "_, cls = cls[0], cls[1:]\n",
    "np.random.seed(25) \n",
    "alm = hp.synalm(cls, lmax=800, new=True, verbose=False) # uK"
   ]
  },
  {
   "cell_type": "markdown",
   "metadata": {},
   "source": [
    "The actual scanning of the sky can be done by using the `scan_instrument_mpi` method of `ScanStrategy`. Broadly speaking, this function first calls the `init_spinmaps` function that performs the inverse spherical harmonic transforms needed for the beam convolution, then it calls the `constant_el_scan` function we mentioned above to populate the boresight pointing quaternions. Finally, it calls the `scan` function that combines boresight pointing, detector pointing and the beam-convolved maps to calculate the final time-ordered data. \n",
    "\n",
    "Note that `scan_instrument_mpi` will also work with more than one detector on the focal plane, possibly distributing the workload over available MPI ranks. \n",
    "\n",
    "For this demonstration, we can separate the inverse spherical harmonic transforms and the scanning. To do so, we first call the `init_detpair` function. This will populate the beam-convolved `spinmaps`. If we then call  `scan_instrument_mpi` with `reuse_spinmaps=True` it will use the precomputed `spinmaps`."
   ]
  },
  {
   "cell_type": "code",
   "execution_count": null,
   "metadata": {
    "collapsed": true
   },
   "outputs": [],
   "source": [
    "beam = S.beams[0][0]\n",
    "S.init_detpair(alm, beam, beam_b=None, nside_spin=512, verbose=False)"
   ]
  },
  {
   "cell_type": "markdown",
   "metadata": {},
   "source": [
    "Then we do the actual scanning of the sky. We set the `save_tod` option to save the data we are about to generate. "
   ]
  },
  {
   "cell_type": "code",
   "execution_count": null,
   "metadata": {},
   "outputs": [],
   "source": [
    "S.scan_instrument_mpi(alm, binning=False, reuse_spinmaps=True, interp=False, save_tod=True, **const_el_opts)"
   ]
  },
  {
   "cell_type": "markdown",
   "metadata": {},
   "source": [
    "We can extract the data we just generated by calling the `data` method. Data sampling is generally done in periods of time that divide up the full mission in to managable \"chunks\" of data. In our case we have only used one chunk. The chunks are stokes in the `chunks` attribute."
   ]
  },
  {
   "cell_type": "code",
   "execution_count": null,
   "metadata": {},
   "outputs": [],
   "source": [
    "print('No. of chunks used: {}'.format(len(S.chunks)))\n",
    "chunk = S.chunks[0]\n",
    "print(chunk)\n",
    "tod = S.data(chunk, beam=beam, data_type='tod')"
   ]
  },
  {
   "cell_type": "markdown",
   "metadata": {},
   "source": [
    "Lets plot the first 500 data points:"
   ]
  },
  {
   "cell_type": "code",
   "execution_count": null,
   "metadata": {},
   "outputs": [],
   "source": [
    "fig, ax = plt.subplots()\n",
    "ax.plot(tod[:500])\n",
    "ax.set_xlabel('Time-sample')\n",
    "ax.set_ylabel(r'Signal [$\\mu K_{\\mathrm{CMB}}$]')"
   ]
  },
  {
   "cell_type": "markdown",
   "metadata": {},
   "source": [
    "We can rerun with the `interp` option set to use bi-linear interpolation while sampling the beam-convolved maps."
   ]
  },
  {
   "cell_type": "code",
   "execution_count": null,
   "metadata": {},
   "outputs": [],
   "source": [
    "S.scan_instrument_mpi(alm, binning=False, reuse_spinmaps=True, interp=True, save_tod=True, **const_el_opts)\n",
    "tod_interp = S.data(S.chunks[0], beam=beam, data_type='tod')"
   ]
  },
  {
   "cell_type": "code",
   "execution_count": null,
   "metadata": {
    "scrolled": true
   },
   "outputs": [],
   "source": [
    "fig, ax = plt.subplots()\n",
    "ax.plot(tod[:50], label='raw')\n",
    "ax.plot(tod_interp[:50], label='interp')\n",
    "ax.set_xlabel('Time-sample')\n",
    "ax.set_ylabel(r'Signal [$\\mu K_{\\mathrm{CMB}}$]')\n",
    "ax.legend()"
   ]
  },
  {
   "cell_type": "markdown",
   "metadata": {},
   "source": [
    "# Temperature-to-Polarization leakage"
   ]
  },
  {
   "cell_type": "markdown",
   "metadata": {},
   "source": [
    "With the basic structure of the code set, we take a look at a leading-order optical systematic: temperature-to-polarization leakage due to azimuthally asymmetric beams."
   ]
  },
  {
   "cell_type": "markdown",
   "metadata": {},
   "source": [
    "In this example we use precomputed harmonic modes for a beam from a simple 2-lens refracting telescope.  As this beam is not azimuthally symmetric, we have to specify the number of azimuthal modes we consider. As we will see, the beam is only weakly asymmetric so we only use the first 5 modes by setting `mmax = 5`. The equivalent Gaussian beamwidth is roughly 38 arcmin."
   ]
  },
  {
   "cell_type": "code",
   "execution_count": null,
   "metadata": {
    "collapsed": true
   },
   "outputs": [],
   "source": [
    "beam_dir = '../tests/test_data/example_blms/'\n",
    "beam_opts = dict(az=0, \n",
    "                 el=0,\n",
    "                 polang=0,\n",
    "                 fwhm=38,\n",
    "                 btype='PO', # Physical optics.\n",
    "                 lmax=800,\n",
    "                 mmax=5,\n",
    "                 po_file=beam_dir+'blm_hp_X1T1R1C8A_800_800.npy')\n",
    "beam2 = Beam(**beam_opts)"
   ]
  },
  {
   "cell_type": "markdown",
   "metadata": {},
   "source": [
    "Lets take a look at the beam and compare it to the Gaussian approximation. First, lets plot the two intensity beams:"
   ]
  },
  {
   "cell_type": "code",
   "execution_count": null,
   "metadata": {},
   "outputs": [],
   "source": [
    "def blm2bmap(beam, nside=1024):\n",
    "    '''\n",
    "    Compute pixelized map of the intensity beam of \n",
    "    Beam instance.\n",
    "    \n",
    "    Arguments\n",
    "    ---------\n",
    "    beam : <beamconv.detector.Beam>\n",
    "    \n",
    "    Keyword arguments\n",
    "    -----------------\n",
    "    nside : int\n",
    "        Nside of output maps\n",
    "        \n",
    "    Returns\n",
    "    -------\n",
    "    beammaps : array-like\n",
    "        HEALPix map of intensity beam.        \n",
    "    '''\n",
    "    blm = np.asarray(beam.blm).copy()[0]\n",
    "    # We need to divide out sqrt(4pi / (2 ell + 1)) to get \n",
    "    # correctly normlized spherical harmonic coeffients.\n",
    "    ell = np.arange(hp.Alm.getlmax(blm.size))\n",
    "    q_ell = np.sqrt(4. * np.pi / (2 * ell + 1))\n",
    "    blm = hp.almxfl(blm, 1 / q_ell)\n",
    "    return hp.alm2map(blm, nside, verbose=False)\n",
    "\n",
    "beam2.btype='PO'\n",
    "bmap_po = blm2bmap(beam2)\n",
    "del(beam2.blm)\n",
    "beam2.btype='Gaussian'\n",
    "bmap_ga = blm2bmap(beam2)\n",
    "del(beam2.blm)\n",
    "\n",
    "cart_opts = dict(rot=[0, 90, 0], lonra=[-3,3], latra=[-3,3], min=0, max=9,\n",
    "                 hold=True, unit=r'$\\log |b(\\theta, \\phi)|$)')\n",
    "\n",
    "fig, axs = plt.subplots(ncols=2, nrows=1, figsize=(10, 14))\n",
    "plt.axes(axs[0])\n",
    "hp.cartview(np.log(np.abs(bmap_po)), title=\"Physical optics\", **cart_opts)\n",
    "plt.axes(axs[1])\n",
    "hp.cartview(np.log(np.abs(bmap_ga)), title=\"Gaussian\", **cart_opts) \n",
    "\n"
   ]
  },
  {
   "cell_type": "markdown",
   "metadata": {},
   "source": [
    "It is also instructive to compare the harmonic modes. First we take a look at the $m=0$ modes (the azimuthally symmetric components). We see that the physical optics beams are slightly non-Gaussian. Note that we plot spherical harmonic modes that are normalized at the monopole by defining $q_{\\ell} = \\sqrt{\\frac{4 \\pi}{(2\\ell +  1)}}$."
   ]
  },
  {
   "cell_type": "code",
   "execution_count": null,
   "metadata": {},
   "outputs": [],
   "source": [
    "beam2.btype='PO'\n",
    "bell_po = np.real(tools.blm2bl(beam2.blm[0]))\n",
    "del(beam2.blm)\n",
    "beam2.btype='Gaussian'\n",
    "bell_ga = np.real(tools.blm2bl(beam2.blm[0]))\n",
    "del(beam2.blm)\n",
    "\n",
    "fig, axs = plt.subplots(ncols=1, nrows=2, figsize=(7, 5), sharex=True)\n",
    "axs[0].plot(bell_po, label='Physical optics')\n",
    "axs[0].plot(bell_ga, label='Gaussian')\n",
    "axs[1].plot(bell_po / bell_ga, label='Ratio (PO / Gauss.)')\n",
    "axs[0].set_ylabel(r'$q_{\\ell} b_{\\ell 0}$')\n",
    "axs[1].set_ylabel(r'$b^{\\mathrm{PO}}_{\\ell 0} / b^{\\mathrm{G}}_{\\ell 0}$')\n",
    "axs[1].set_xlabel(r'Multipole [$\\ell$]')\n",
    "axs[0].legend()\n",
    "axs[1].legend()\n",
    "fig.tight_layout()"
   ]
  },
  {
   "cell_type": "markdown",
   "metadata": {},
   "source": [
    "Now we take a look at the azimuthally asymmetric modes of the physical optics beam. It is clear that most information is stored in the low $m$ modes and that even the largest asymetric components have only few percent of the symmetric component's amplitude. Note that the $m\\neq0$ modes are complex numbers so we plot the real and imaginary part."
   ]
  },
  {
   "cell_type": "code",
   "execution_count": null,
   "metadata": {},
   "outputs": [],
   "source": [
    "beam2.btype='PO'\n",
    "blm = beam2.blm[0]\n",
    "del(beam2.blm)\n",
    "fig, axs = plt.subplots(ncols=2, figsize=(12, 5), sharey=True, sharex=True)\n",
    "for m in range(1,7):\n",
    "    bell = tools.blm2bl(blm, m=m)\n",
    "    axs[0].plot(np.real(bell), label='m={}'.format(m))\n",
    "    axs[1].plot(np.imag(bell), label='m={}'.format(m))\n",
    "axs[1].legend(ncol=2)\n",
    "axs[0].set_title(r'$\\Re \\ b_{\\ell m}$')\n",
    "axs[1].set_title(r'$\\Im \\ b_{\\ell m}$')\n",
    "axs[0].set_ylabel(r'$q_{\\ell} b^{\\mathrm{PO}}_{\\ell m}$')\n",
    "axs[0].set_xlabel(r'Multipole [$\\ell$]')\n",
    "axs[1].set_xlabel(r'Multipole [$\\ell$]')\n",
    "fig.tight_layout()"
   ]
  },
  {
   "cell_type": "markdown",
   "metadata": {},
   "source": [
    "We initiate a new `ScanStrategy` instance and add our new beam."
   ]
  },
  {
   "cell_type": "code",
   "execution_count": null,
   "metadata": {
    "collapsed": true
   },
   "outputs": [],
   "source": [
    "S2 = ScanStrategy(**scan_opts)\n",
    "S2.add_to_focal_plane(beam2)"
   ]
  },
  {
   "cell_type": "markdown",
   "metadata": {},
   "source": [
    "This time we let the instrument rotate 36 degrees around the boresight every 100 seconds in addition the to constant-elevation scanning"
   ]
  },
  {
   "cell_type": "code",
   "execution_count": null,
   "metadata": {
    "collapsed": true
   },
   "outputs": [],
   "source": [
    "S2.set_instr_rot(period=100, angles=np.linspace(0, 360, 10))"
   ]
  },
  {
   "cell_type": "markdown",
   "metadata": {},
   "source": [
    "We turn off the linearly polarized component of the sky. This means that any sign of a polarized signal in the data will be due to systematic effects."
   ]
  },
  {
   "cell_type": "code",
   "execution_count": null,
   "metadata": {
    "collapsed": true
   },
   "outputs": [],
   "source": [
    "alm = np.asarray(alm)\n",
    "alm[1] *= 0\n",
    "alm[2] *= 0"
   ]
  },
  {
   "cell_type": "markdown",
   "metadata": {},
   "source": [
    "Let us start by scanning the sky with the Gaussian beam. This time we also save the indices of the pixels visited by the scan strategy and the position angle `pa` (or $\\psi$) at each sample."
   ]
  },
  {
   "cell_type": "code",
   "execution_count": null,
   "metadata": {},
   "outputs": [],
   "source": [
    "S2.set_btypes('Gaussian')\n",
    "beam2.symmetric = True\n",
    "S2.reset_instr_rot()\n",
    "S2.scan_instrument_mpi(alm, binning=False, reuse_spinmaps=False, interp=False, \n",
    "                       save_point=True, save_tod=True, nside_spin=512, **const_el_opts)\n",
    "pix_ga = S2.data(S2.chunks[0], beam=beam2, data_type='pix')\n",
    "pa_ga = S2.data(S2.chunks[0], beam=beam2, data_type='pa')\n",
    "tod_ga = S2.data(S2.chunks[0], beam=beam2, data_type='tod')"
   ]
  },
  {
   "cell_type": "markdown",
   "metadata": {},
   "source": [
    "Lets now plot the data gathered from a single pixel on the sky. We pick the pixels that is most visited by the scanning. If we now plot the signal gathered from this pixel, we expect no variation with position angle. This is because the Gaussian beam is azimuthally symmetric. So despite the rotation of the boresight every 100 seconds, the signal should remain constant."
   ]
  },
  {
   "cell_type": "code",
   "execution_count": null,
   "metadata": {},
   "outputs": [],
   "source": [
    "common_pix_ga = np.bincount(pix_ga).argmax()\n",
    "fig, ax = plt.subplots()\n",
    "ax.scatter(pa_ga[pix_ga==common_pix_ga], tod_ga[pix_ga==common_pix_ga])\n",
    "ax.set_xlim(-200, 200)\n",
    "_= ax.set_xticks([-180, -90, 0, 90, 180])\n",
    "_= ax.set_xticklabels([-180, -90, 0, 90, 180])\n",
    "ax.set_xlabel(r\"Position angle $\\psi$ [$\\deg$]\")\n",
    "_= ax.set_ylabel(r\"Signal [$\\mu K_{\\mathrm{CMB}}$]\")"
   ]
  },
  {
   "cell_type": "markdown",
   "metadata": {},
   "source": [
    "Lets now repeat the scanning, but with the physical optics beam. This time, the (internal) call to `init_detpair` will take longer as the code also has to perform inverse spherical harmonic transforms for all of the $m \\neq 0$ modes of the intensity beam (and all the $m \\neq 2$ modes of the linearly polarized beam)."
   ]
  },
  {
   "cell_type": "code",
   "execution_count": null,
   "metadata": {},
   "outputs": [],
   "source": [
    "S2.set_btypes('PO')\n",
    "beam2.symmetric = False\n",
    "S2.reset_instr_rot()\n",
    "S2.scan_instrument_mpi(alm, binning=False, reuse_spinmaps=False, interp=False, \n",
    "                       save_point=True, save_tod=True, nside_spin=512, **const_el_opts)"
   ]
  },
  {
   "cell_type": "markdown",
   "metadata": {},
   "source": [
    "Lets plot the signal in the most visited pixel as function of position angle again. This time we see a variation with position angle. Remember that there is no linearly polarized component to the input sky in this simulation. All the variation is thus because of the asymmetry of the beam. "
   ]
  },
  {
   "cell_type": "code",
   "execution_count": null,
   "metadata": {},
   "outputs": [],
   "source": [
    "pix_po = S2.data(S2.chunks[0], beam=beam2, data_type='pix')\n",
    "pa_po = S2.data(S2.chunks[0], beam=beam2, data_type='pa')\n",
    "tod_po = S2.data(S2.chunks[0], beam=beam2, data_type='tod')\n",
    "\n",
    "common_pix_po = np.bincount(pix_po).argmax()\n",
    "fig, ax = plt.subplots()\n",
    "ax.scatter(pa_po[pix_po==common_pix_po], tod_po[pix_po==common_pix_po])\n",
    "ax.set_xlim(-200, 200)\n",
    "_= ax.set_xticks([-180, -90, 0, 90, 180])\n",
    "_= ax.set_xticklabels([-180, -90, 0, 90, 180])\n",
    "ax.set_xlabel(r\"Position angle $\\psi$ [$\\deg$]\")\n",
    "_= ax.set_ylabel(r\"Signal [$\\mu K_{\\mathrm{CMB}}$]\")"
   ]
  },
  {
   "cell_type": "markdown",
   "metadata": {},
   "source": [
    "The above plot demonstrates the systematic temperature-to-polarization leakage we care about in this example. The point is that a linearly polarized sky signal will produce a sinusoidal signature with period $2 \\psi$ in a plot like the above. We see that the signal in this pixel shows this behaviour (plus some other harmonics). A map-making algorithm that uses the time-ordered data and angular information to reconstruct the linearly polarized sky signal will therefore wronly interpret the above as polarized signal."
   ]
  }
 ],
 "metadata": {
  "kernelspec": {
   "display_name": "Python 3",
   "language": "python",
   "name": "python3"
  },
  "language_info": {
   "codemirror_mode": {
    "name": "ipython",
    "version": 3
   },
   "file_extension": ".py",
   "mimetype": "text/x-python",
   "name": "python",
   "nbconvert_exporter": "python",
   "pygments_lexer": "ipython3",
   "version": "3.6.1"
  }
 },
 "nbformat": 4,
 "nbformat_minor": 2
}
