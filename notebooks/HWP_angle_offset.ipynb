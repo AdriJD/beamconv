{
 "cells": [
  {
   "cell_type": "code",
   "execution_count": null,
   "metadata": {},
   "outputs": [],
   "source": [
    "import numpy as np\n",
    "import matplotlib.pyplot as plt\n",
    "from scipy.integrate import simps\n",
    "from beamconv import Beam"
   ]
  },
  {
   "cell_type": "code",
   "execution_count": null,
   "metadata": {},
   "outputs": [],
   "source": [
    "def penalty(hwp_data, hwp_model):\n",
    "    '''\n",
    "    Calculate Frobenius norm of inner 2x2 part of\n",
    "    data - model.\n",
    "        \n",
    "    Parameters\n",
    "    ----------\n",
    "    hwp_data : (4, 4) array\n",
    "        HWP matrix.\n",
    "    hwp_ideal : (4, 4) array\n",
    "        Ideal HWP Mueller matrix.\n",
    "        \n",
    "    Returns\n",
    "    -------\n",
    "    penalty : float\n",
    "    '''\n",
    "\n",
    "    penalty = np.sqrt(np.sum((hwp_data - hwp_model)[1:3,1:3] ** 2))\n",
    "        \n",
    "    return penalty"
   ]
  },
  {
   "cell_type": "code",
   "execution_count": null,
   "metadata": {},
   "outputs": [],
   "source": [
    "nu = np.linspace(80, 110, 10)\n",
    "beam = Beam()\n",
    "beam.el = 0\n",
    "ahwp_name = '3BR'\n",
    "\n",
    "hwp_matrices = np.zeros((nu.size, 4, 4))\n",
    "\n",
    "for fidx, freq in enumerate(nu):\n",
    "    beam.sensitive_freq = freq\n",
    "    beam.set_hwp_mueller(model_name=ahwp_name)\n",
    "    hwp_matrices[fidx,...] = beam.hwp_mueller"
   ]
  },
  {
   "cell_type": "code",
   "execution_count": null,
   "metadata": {},
   "outputs": [],
   "source": [
    "def get_rotated_mueller_matrix(mat, angle):\n",
    "    '''\n",
    "    Return rotated Mueller matrix.\n",
    "    \n",
    "    Parameters\n",
    "    ----------\n",
    "    mat : (4, 4) or (N, 4, 4) array\n",
    "    angle : float\n",
    "        Angle in radians.\n",
    "        \n",
    "    Returns\n",
    "    -------\n",
    "    mat_rot : (4, 4) array    \n",
    "    '''\n",
    "\n",
    "    mrot = np.array([[1., 0., 0., 0.], \n",
    "              [0., np.cos(2 * angle), np.sin(2 * angle), 0.],\n",
    "              [0., -np.sin(2 * angle), np.cos(2 * angle), 0.],\n",
    "              [0. ,0. ,0. , 1.]])\n",
    "\n",
    "    return mrot.T @ mat @ mrot"
   ]
  },
  {
   "cell_type": "code",
   "execution_count": null,
   "metadata": {},
   "outputs": [],
   "source": [
    "def modBB(nu, beta=1.59):\n",
    "    hkb = 4.799e-11\n",
    "    T = 15.9\n",
    "    wien_peak = 9.3475e11\n",
    "    wien_modi = (wien_peak**beta)*np.exp(-hkb*wien_peak/T) \n",
    "    return ((nu*1e9)**beta)*np.exp(-hkb*nu*1e9/T)/wien_modi\n",
    "\n",
    "# integrate matrix\n",
    "M_integ = np.zeros((4,4))\n",
    "for i in range (4):\n",
    "    for j in range (4):\n",
    "        M_integ[i,j] = simps(hwp_matrices[:,i,j] * modBB(nu), x=nu) / simps(modBB(nu), x=nu)"
   ]
  },
  {
   "cell_type": "code",
   "execution_count": null,
   "metadata": {},
   "outputs": [],
   "source": [
    "ideal = np.eye(4)\n",
    "ideal[2,2] = -1\n",
    "ideal[3,3] = -1"
   ]
  },
  {
   "cell_type": "markdown",
   "metadata": {},
   "source": [
    "First we optimize the angle offset we need to apply to the ideal HWP to match the nonideal one."
   ]
  },
  {
   "cell_type": "code",
   "execution_count": null,
   "metadata": {},
   "outputs": [],
   "source": [
    "alphas = np.linspace(0, 90, 10)\n",
    "offsets = np.linspace(0, 90, 10000)\n",
    "penalties = np.zeros_like(offsets)\n",
    "\n",
    "for oidx, offset in enumerate(offsets):\n",
    "    m_data = get_rotated_mueller_matrix(M_integ, np.radians(0))\n",
    "    m_model = get_rotated_mueller_matrix(ideal, np.radians(offset))\n",
    "    penalties[oidx] = penalty(m_data, m_model)"
   ]
  },
  {
   "cell_type": "code",
   "execution_count": null,
   "metadata": {},
   "outputs": [],
   "source": [
    "plt.plot(offsets, penalties)"
   ]
  },
  {
   "cell_type": "code",
   "execution_count": null,
   "metadata": {},
   "outputs": [],
   "source": [
    "best_offset = np.radians(offsets[np.argmin(penalties)])\n",
    "print(np.degrees(best_offset))"
   ]
  },
  {
   "cell_type": "code",
   "execution_count": null,
   "metadata": {},
   "outputs": [],
   "source": [
    "alphas = np.linspace(0, 180, 1800)\n",
    "nonideal_arr = np.zeros((alphas.size,) + (4, 4))\n",
    "ideal_arr = np.zeros_like(nonideal_arr)\n",
    "\n",
    "for aidx, alpha in enumerate(alphas):\n",
    "    nonideal_arr[aidx] = get_rotated_mueller_matrix(M_integ, np.radians(alpha))\n",
    "    ideal_arr[aidx] = get_rotated_mueller_matrix(ideal, np.radians(alpha) + best_offset)\n",
    "\n",
    "f4, axs4 = plt.subplots(4, 4, figsize=(15, 9), sharey=False, sharex=True)\n",
    "plt.rcParams['axes.labelsize'] = 13\n",
    "tit = (r'$_{I}$',r'$_{Q}$', r'$_{U}$',r'$_{V}$')\n",
    "for i in range (4):\n",
    "    for j in range(4):\n",
    "        axs4[i,j].plot(alphas, nonideal_arr[:,i,j], linestyle = '-', alpha=0.5, label='integrated BR3')\n",
    "        \n",
    "        axs4[i,j].plot(alphas, ideal_arr[:,i,j], linestyle = '-.', alpha=0.5, label='Ideal')\n",
    "        axs4[i,j].set_title(r'$M$'+tit[i]+tit[j], fontsize= '12')\n",
    "\n",
    "f4.subplots_adjust(right=0.875)\n",
    "f4.text(0.5, 0.02, r'$offset(deg)$', ha='center',fontweight=\"bold\", fontsize='13')\n",
    "f4.text(0.055, 0.5,'Value 'r'$M_{ij}$' , va='center', rotation='vertical',fontweight=\"bold\", fontsize='13')\n",
    "plt.legend(bbox_to_anchor=(1.04,.0), loc=\"lower left\", borderaxespad=0.1, prop={'size': 12}, facecolor='white',  \n",
    "    edgecolor='black', framealpha=1, ncol=1)\n",
    "plt.show()"
   ]
  },
  {
   "cell_type": "markdown",
   "metadata": {},
   "source": [
    "Now we optimize the angle offset we need to apply to the nonideal HWP to match the ideal one."
   ]
  },
  {
   "cell_type": "code",
   "execution_count": null,
   "metadata": {},
   "outputs": [],
   "source": [
    "alphas = np.linspace(0, 90, 10)\n",
    "offsets = np.linspace(0, 90, 10000)\n",
    "penalties = np.zeros_like(offsets)\n",
    "\n",
    "for oidx, offset in enumerate(offsets):\n",
    "    m_data = get_rotated_mueller_matrix(M_integ, np.radians(offset))\n",
    "    m_model = get_rotated_mueller_matrix(ideal, np.radians(0))\n",
    "    penalties[oidx] = penalty(m_data, m_model)"
   ]
  },
  {
   "cell_type": "code",
   "execution_count": null,
   "metadata": {},
   "outputs": [],
   "source": [
    "plt.plot(offsets, penalties)"
   ]
  },
  {
   "cell_type": "code",
   "execution_count": null,
   "metadata": {},
   "outputs": [],
   "source": [
    "best_offset = np.radians(offsets[np.argmin(penalties)])\n",
    "print(np.degrees(best_offset))"
   ]
  },
  {
   "cell_type": "code",
   "execution_count": null,
   "metadata": {},
   "outputs": [],
   "source": [
    "alphas = np.linspace(0, 180, 1800)\n",
    "nonideal_arr = np.zeros((alphas.size,) + (4, 4))\n",
    "ideal_arr = np.zeros_like(nonideal_arr)\n",
    "\n",
    "for aidx, alpha in enumerate(alphas):\n",
    "    nonideal_arr[aidx] = get_rotated_mueller_matrix(M_integ, np.radians(alpha) + best_offset)\n",
    "    ideal_arr[aidx] = get_rotated_mueller_matrix(ideal, np.radians(alpha))\n",
    "\n",
    "f4, axs4 = plt.subplots(4, 4, figsize=(15, 9), sharey=False, sharex=True)\n",
    "plt.rcParams['axes.labelsize'] = 13\n",
    "tit = (r'$_{I}$',r'$_{Q}$', r'$_{U}$',r'$_{V}$')\n",
    "for i in range (4):\n",
    "    for j in range(4):\n",
    "        axs4[i,j].plot(alphas, nonideal_arr[:,i,j], linestyle = '-', alpha=0.5, label='integrated BR3')\n",
    "        \n",
    "        axs4[i,j].plot(alphas, ideal_arr[:,i,j], linestyle = '-.', alpha=0.5, label='Ideal')\n",
    "        axs4[i,j].set_title(r'$M$'+tit[i]+tit[j], fontsize= '12')\n",
    "\n",
    "f4.subplots_adjust(right=0.875)\n",
    "f4.text(0.5, 0.02, r'$offset(deg)$', ha='center',fontweight=\"bold\", fontsize='13')\n",
    "f4.text(0.055, 0.5,'Value 'r'$M_{ij}$' , va='center', rotation='vertical',fontweight=\"bold\", fontsize='13')\n",
    "plt.legend(bbox_to_anchor=(1.04,.0), loc=\"lower left\", borderaxespad=0.1, prop={'size': 12}, facecolor='white',  \n",
    "    edgecolor='black', framealpha=1, ncol=1)\n",
    "plt.show()"
   ]
  },
  {
   "cell_type": "code",
   "execution_count": null,
   "metadata": {},
   "outputs": [],
   "source": []
  }
 ],
 "metadata": {
  "kernelspec": {
   "display_name": "Python 3",
   "language": "python",
   "name": "python3"
  },
  "language_info": {
   "codemirror_mode": {
    "name": "ipython",
    "version": 3
   },
   "file_extension": ".py",
   "mimetype": "text/x-python",
   "name": "python",
   "nbconvert_exporter": "python",
   "pygments_lexer": "ipython3",
   "version": "3.8.0"
  }
 },
 "nbformat": 4,
 "nbformat_minor": 2
}
