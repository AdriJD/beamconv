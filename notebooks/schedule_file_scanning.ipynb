{
 "cells": [
  {
   "cell_type": "markdown",
   "metadata": {},
   "source": [
    "## Scan with schedule file\n",
    "\n",
    "Testing ways to simulate scanning from the Atacama desert using a schedule file"
   ]
  },
  {
   "cell_type": "code",
   "execution_count": null,
   "metadata": {},
   "outputs": [],
   "source": [
    "import os, pickle, time\n",
    "import numpy as np\n",
    "import healpy as hp\n",
    "from beamconv import ScanStrategy, tools\n",
    "import matplotlib.pyplot as plt\n",
    "import qpoint as qp\n",
    "import seaborn as sns\n",
    "sns.set()\n",
    "%matplotlib inline"
   ]
  },
  {
   "cell_type": "code",
   "execution_count": null,
   "metadata": {},
   "outputs": [],
   "source": [
    "def get_cls(fname='../ancillary/wmap7_r0p03_lensed_uK_ext.txt'):\n",
    "    cls = np.loadtxt(fname, unpack=True) # Cl in uK^2\n",
    "    return cls[0], cls[1:]"
   ]
  },
  {
   "cell_type": "code",
   "execution_count": null,
   "metadata": {},
   "outputs": [],
   "source": [
    "# Load up alm                                                                            \n",
    "lmax = 700\n",
    "ell, cls = get_cls()\n",
    "np.random.seed(39)\n",
    "alm = hp.synalm(cls, lmax=lmax, new=True, verbose=True) # uK  "
   ]
  },
  {
   "cell_type": "code",
   "execution_count": null,
   "metadata": {},
   "outputs": [],
   "source": [
    "#nsamp      = 1000\n",
    "#mmax       = 5\n",
    "#fwhm       = 30.\n",
    "#scan_speed = 2.8\n",
    "\n",
    "#beam_opts = dict(lmax=800,\n",
    "#                 fwhm=fwhm,       # Gaussian co-pol beam, so only specify FWHM (arcmin)\n",
    "#                 btype='Gaussian')\n",
    "\n",
    "#soscan = ScanStrategy(duration=nsamp,\n",
    "#                  sample_rate=10.21,\n",
    "#                  location='atacama')\n",
    "\n",
    "#soscan.create_focal_plane(nrow=1, ncol=1, fov=1, \n",
    "#                      **beam_opts)\n",
    "\n",
    "#soscan.allocate_maps(nside=256)\n",
    "\n",
    "#scan_opts = dict(                 \n",
    "#                 scan_speed=scan_speed,\n",
    "#                 ctime_func=soscan.schedule_ctime,\n",
    "#                 q_bore_func=soscan.schedule_scan)\n",
    "\n",
    "#ctime0 = [1510000000]\n",
    "#soscan.ctime_starts = ctime0\n",
    "#soscan.az0s = np.array([214.98])\n",
    "#soscan.az1s = np.array([250.28])\n",
    "#soscan.els = np.array([53.09])\n",
    "#soscan.t0s = np.array([58484.000694])\n",
    "#soscan.t1s = np.array([58484.055556])\n",
    "\n",
    "#soscan.ctime = soscan.schedule_ctime(start=0, end=nsamp, cidx=0)\n",
    "\n",
    "#az, el, lon, lat, qbore = soscan.schedule_scan(return_all=True)\n",
    "\n",
    "#ra, dec, _ = sat.quat2radecpa(qbore)"
   ]
  },
  {
   "cell_type": "code",
   "execution_count": null,
   "metadata": {},
   "outputs": [],
   "source": [
    "# init scan strategy and instrument                                                      \n",
    "mmax       = 5\n",
    "fwhm       = 30.\n",
    "scan_speed = 2.8\n",
    "mlen       = 60000. \n",
    "\n",
    "beam_opts = dict(lmax=800,\n",
    "                 fwhm=fwhm,       # Gaussian co-pol beam, so only specify FWHM (arcmin)\n",
    "                 btype='Gaussian')\n",
    "\n",
    "soscan = ScanStrategy(duration=mlen,\n",
    "    sample_rate=10.21, location='atacama', external_pointing=True)\n",
    "\n",
    "soscan.create_focal_plane(nrow=2, ncol=2, fov=3, **beam_opts)\n",
    "\n",
    "soscan.allocate_maps(nside=256)\n",
    "\n",
    "scan_opts = dict(scan_speed=scan_speed,\n",
    "                ctime_func=soscan.schedule_ctime,\n",
    "                q_bore_func=soscan.schedule_scan,\n",
    "                q_bore_kwargs=dict(),\n",
    "                ctime_kwargs=dict(),\n",
    "                )\n",
    "\n",
    "chunks = soscan.partition_schedule_file(filename='atacama_scan_file.txt', \n",
    "    chunksize=0.05*soscan.nsamp) \n",
    "\n",
    "# for chunk in chunks:\n",
    "\n",
    "#     soscan.ctime = soscan.schedule_ctime(**chunk)\n",
    "#     az, el, lon, lat, qbore = soscan.schedule_scan(return_all=True, scan_speed=scan_speed, **chunk)\n",
    "#     ra, dec, _ = soscan.quat2radecpa(qbore)\n",
    "\n",
    "#     time = np.arange(len(ra))/3600./soscan.fsamp\n",
    "\n",
    "#     print('Chunk:')\n",
    "#     print('fsamp = {}'.format(soscan.fsamp))\n",
    "#     print('nhours = {}'.format(soscan.nsamp/soscan.fsamp/3600.))\n",
    "#     print('Mean ra is = {:.8f}'.format(np.mean(ra)))             \n",
    "#     print('Std ra is = {:.8f}'.format(np.std(ra)))             \n",
    "#     print('Mean dec is = {:.8f}'.format(np.mean(dec)))               \n",
    "#     print('Std dec is = {:.8f}'.format(np.std(dec))) \n",
    "\n",
    "#     print('Mean el is = {:.8f}'.format(np.mean(el)))             \n",
    "#     print('Std el is = {:.8f}'.format(np.std(el)))             \n",
    "\n",
    "\n",
    "print(soscan.chunks)"
   ]
  },
  {
   "cell_type": "code",
   "execution_count": null,
   "metadata": {},
   "outputs": [],
   "source": [
    "## Plotting up results\n",
    "sns.set(font_scale=1.7)\n",
    "fig, (ax1, ax2) = plt.subplots(2, 1, figsize=(15, 10))\n",
    "ax1.plot(time, ra, label='ra')\n",
    "ax1.plot(time, dec, label='dec')\n",
    "ax1.set_ylabel('Angle [deg]')\n",
    "# ax2.plot(time, az, label='az')\n",
    "ax2.plot(time, el, label='el')\n",
    "ax2.set_ylabel('Angle [deg]')\n",
    "#ax3.plot(time[1:], lon[1:], label='lon')\n",
    "#ax3.set_ylabel('Longitude [deg]')\n",
    "#ax3.plot(time, lat, label='lat')\n",
    "#ax3.set_ylabel('Latitude [deg]')\n",
    "#ax3.set_xlabel('Time [hours]')\n",
    "\n",
    "for ax in [ax1, ax2]:\n",
    "    ax.legend()\n",
    "    \n",
    "#for ax in [ax1, ax2]:\n",
    "#    ax.xaxis.set_ticklabels([])"
   ]
  },
  {
   "cell_type": "code",
   "execution_count": null,
   "metadata": {
    "scrolled": true
   },
   "outputs": [],
   "source": [
    "# Generate timestreams with Gaussian beams\n",
    "soscan.scan_instrument_mpi(alm, **scan_opts)\n",
    "\n",
    "maps, cond = soscan.solve_for_map()"
   ]
  },
  {
   "cell_type": "code",
   "execution_count": null,
   "metadata": {},
   "outputs": [],
   "source": [
    "cond[cond == np.inf] = hp.UNSEEN\n",
    "cart_opts = dict(unit=r'[$\\mu K_{\\mathrm{CMB}}$]', lonra=[-60, 40], latra=[-70, -40])\n",
    "hp.mollview(cond, min=2, max=5)\n",
    "hp.mollview(maps[0], min=-250, max=250)\n",
    "hp.cartview(maps[1], min=-5, max=5, **cart_opts)\n",
    "hp.cartview(maps[2], min=-5, max=5, **cart_opts)"
   ]
  },
  {
   "cell_type": "code",
   "execution_count": null,
   "metadata": {},
   "outputs": [],
   "source": [
    "print(soscan.az1s)\n",
    "print(soscan.els)\n",
    "print(np.min(time))\n",
    "print(np.max(time))\n",
    "len(time)"
   ]
  }
 ],
 "metadata": {
  "kernelspec": {
   "display_name": "Python 3",
   "language": "python",
   "name": "python3"
  },
  "language_info": {
   "codemirror_mode": {
    "name": "ipython",
    "version": 3
   },
   "file_extension": ".py",
   "mimetype": "text/x-python",
   "name": "python",
   "nbconvert_exporter": "python",
   "pygments_lexer": "ipython3",
   "version": "3.6.8"
  }
 },
 "nbformat": 4,
 "nbformat_minor": 2
}
