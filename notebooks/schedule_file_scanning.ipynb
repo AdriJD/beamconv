{
 "cells": [
  {
   "cell_type": "markdown",
   "metadata": {},
   "source": [
    "## Scan with schedule file\n",
    "\n",
    "Testing ways to simulate scanning from the Atacama desert using a schedule file"
   ]
  },
  {
   "cell_type": "code",
   "execution_count": null,
   "metadata": {},
   "outputs": [],
   "source": [
    "import os, pickle, time\n",
    "import numpy as np\n",
    "import healpy as hp\n",
    "from beamconv import ScanStrategy, tools\n",
    "import matplotlib.pyplot as plt\n",
    "import qpoint as qp\n",
    "import seaborn as sns\n",
    "sns.set()\n",
    "%matplotlib inline"
   ]
  },
  {
   "cell_type": "code",
   "execution_count": null,
   "metadata": {},
   "outputs": [],
   "source": [
    "def get_cls(fname='../ancillary/wmap7_r0p03_lensed_uK_ext.txt'):\n",
    "    cls = np.loadtxt(fname, unpack=True) # Cl in uK^2\n",
    "    return cls[0], cls[1:]"
   ]
  },
  {
   "cell_type": "code",
   "execution_count": null,
   "metadata": {},
   "outputs": [],
   "source": [
    "# Load up alm                                                                            \n",
    "lmax = 700\n",
    "ell, cls = get_cls()\n",
    "np.random.seed(39)\n",
    "alm = hp.synalm(cls, lmax=lmax, new=True, verbose=True) # uK  "
   ]
  },
  {
   "cell_type": "code",
   "execution_count": null,
   "metadata": {},
   "outputs": [],
   "source": [
    "# init scan strategy and instrument                                                      \n",
    "\n",
    "nsamp      = 10000\n",
    "mmax       = 5\n",
    "fwhm       = 30.\n",
    "scan_speed = 2.8\n",
    "\n",
    "beam_opts = dict(lmax=800,\n",
    "                 fwhm=fwhm,       # Gaussian co-pol beam, so only specify FWHM (arcmin)\n",
    "                 btype='Gaussian')\n",
    "\n",
    "soscan = ScanStrategy(duration=nsamp,\n",
    "                  sample_rate=10.21,\n",
    "                  location='atacama')\n",
    "\n",
    "soscan.create_focal_plane(nrow=2, ncol=2, fov=3, \n",
    "                      **beam_opts)\n",
    "\n",
    "soscan.allocate_maps(nside=256)\n",
    "\n",
    "scan_opts = dict(                 \n",
    "                 scan_speed=scan_speed,\n",
    "                 ctime_func=soscan.schedule_ctime,\n",
    "                 q_bore_func=soscan.schedule_scan)\n",
    "\n",
    "chunks = soscan.partition_schedule_file(filename='', \n",
    "    chunksize=0.5*soscan.mlen*soscan.fsamp) "
   ]
  },
  {
   "cell_type": "code",
   "execution_count": null,
   "metadata": {},
   "outputs": [],
   "source": [
    "# Generate timestreams with Gaussian beams\n",
    "soscan.scan_instrument_mpi(alm, **scan_opts)\n",
    "\n",
    "maps, cond = soscan.solve_for_map()"
   ]
  },
  {
   "cell_type": "code",
   "execution_count": null,
   "metadata": {},
   "outputs": [],
   "source": [
    "cond[cond == np.inf] = hp.UNSEEN\n",
    "cart_opts = dict(unit=r'[$\\mu K_{\\mathrm{CMB}}$]', lonra=[-60, 40], latra=[-70, -40])\n",
    "hp.mollview(cond, min=2, max=5)\n",
    "hp.mollview(maps[0], min=-250, max=250)\n",
    "hp.cartview(maps[1], min=-5, max=5, **cart_opts)\n",
    "hp.cartview(maps[2], min=-5, max=5, **cart_opts)"
   ]
  }
 ],
 "metadata": {
  "kernelspec": {
   "display_name": "Python 3",
   "language": "python",
   "name": "python3"
  },
  "language_info": {
   "codemirror_mode": {
    "name": "ipython",
    "version": 3
   },
   "file_extension": ".py",
   "mimetype": "text/x-python",
   "name": "python",
   "nbconvert_exporter": "python",
   "pygments_lexer": "ipython3",
   "version": "3.6.8"
  }
 },
 "nbformat": 4,
 "nbformat_minor": 2
}
