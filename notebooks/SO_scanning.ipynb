{
 "cells": [
  {
   "cell_type": "markdown",
   "metadata": {},
   "source": [
    "## Testing ways to simulate scanning from the Atacama desert\n",
    "\n",
    "Insert text"
   ]
  },
  {
   "cell_type": "code",
   "execution_count": 1,
   "metadata": {},
   "outputs": [],
   "source": [
    "import os, pickle, time\n",
    "import numpy as np\n",
    "import healpy as hp\n",
    "from beamconv import ScanStrategy, tools\n",
    "import matplotlib.pyplot as plt\n",
    "import qpoint as qp\n",
    "import seaborn as sns\n",
    "sns.set()\n",
    "%matplotlib inline"
   ]
  },
  {
   "cell_type": "code",
   "execution_count": 2,
   "metadata": {},
   "outputs": [],
   "source": [
    "def get_cls(fname='../ancillary/wmap7_r0p03_lensed_uK_ext.txt'):\n",
    "    cls = np.loadtxt(fname, unpack=True) # Cl in uK^2\n",
    "    return cls[0], cls[1:]"
   ]
  },
  {
   "cell_type": "code",
   "execution_count": 4,
   "metadata": {},
   "outputs": [],
   "source": [
    "# Load up alm                                                                            \n",
    "lmax = 700\n",
    "ell, cls = get_cls()\n",
    "np.random.seed(39)\n",
    "alm = hp.synalm(cls, lmax=lmax, new=True, verbose=True) # uK  "
   ]
  },
  {
   "cell_type": "code",
   "execution_count": 5,
   "metadata": {},
   "outputs": [],
   "source": [
    "# create Beam properties and pickle (this is just to test load_focal_plane)              \n",
    "opj = os.path.join\n",
    "blm_dir = os.path.abspath('../tests/test_data/example_blms')\n",
    "po_file = opj(blm_dir, 'blm_hp_X1T1R1C8A_800_800.npy')\n",
    "eg_file = opj(blm_dir, 'blm_hp_eg_X1T1R1C8A_800_800.npy')\n",
    "\n",
    "beam_file = 'beam_opts.pkl'\n",
    "beam_opts = dict(az=0,\n",
    "                 el=0,\n",
    "                 polang=0.,\n",
    "                 btype='Gaussian',\n",
    "                 name='X1T1R1C8',\n",
    "                 fwhm=32.2,\n",
    "                 lmax=800,\n",
    "                 mmax=800,\n",
    "                 amplitude=1.,\n",
    "                 po_file=po_file,\n",
    "                 eg_file=eg_file,\n",
    "                 deconv_q=True,  # blm are SH coeff from hp.alm2map                      \n",
    "                 normalize=True)\n",
    "\n",
    "with open(beam_file, 'wb') as handle:\n",
    "    pickle.dump(beam_opts, handle, protocol=pickle.HIGHEST_PROTOCOL)"
   ]
  },
  {
   "cell_type": "code",
   "execution_count": 6,
   "metadata": {},
   "outputs": [],
   "source": [
    "# init scan strategy and instrument                                                      \n",
    "\n",
    "nsamp      = 1000\n",
    "mmax       = 5\n",
    "fwhm       = 30.\n",
    "ra0        = -10 \n",
    "dec0       = -57.5\n",
    "az_throw   = 50\n",
    "scan_speed = 2.8\n",
    "rot_period = 4.5*60*60\n",
    "nside_spin = 512\n",
    "\n",
    "spin_opts = dict(max_spin=2,      # Symmetric beams, so 2 is sufficient\n",
    "                 nside_spin=256)  # nside of scanned maps \n",
    "\n",
    "scan_opts = dict(ra0=[ra0],       # Center of scan\n",
    "                 dec0=[dec0],\n",
    "                 az_throw=az_throw,     # Scan width\n",
    "                 scan_speed=scan_speed)\n",
    "\n",
    "soscan = ScanStrategy(duration=nsamp, # mission duration in sec.                                  \n",
    "                  sample_rate=10, # 10 Hz sample rate                                    \n",
    "                  location='atacama') # South pole instrument                              \n",
    "\n",
    "soscan.load_focal_plane('.', no_pairs=True)\n",
    "soscan.allocate_maps(nside=256)\n",
    "\n",
    "chunks = soscan.partition_mission(0.5*soscan.mlen*soscan.fsamp) \n",
    "\n",
    "# Set instrument rotation\n",
    "#b2.set_instr_rot(period=rot_period, angles=[68, 113, 248, 293])\n",
    "\n",
    "# Set elevation stepping\n",
    "#b2.set_el_steps(step_period, steps=[-4, -3, -2, -1, 0, 1, 2, 3, 4, 4])\n",
    "\n",
    "# Set HWP modulation\n",
    "#b2.set_hwp_mod(mode='continuous', freq=1.)"
   ]
  },
  {
   "cell_type": "code",
   "execution_count": null,
   "metadata": {},
   "outputs": [],
   "source": [
    "# Generate timestreams with Gaussian beams\n",
    "\n",
    "#soscan.scan_instrument_mpi(alm, verbose=1, ra0=ra0, dec0=dec0, az_throw=az_throw,\n",
    "#                       nside_spin=nside_spin, max_spin=mmax)\n",
    "\n",
    "soscan.scan_instrument_mpi(alm, **scan_opts)\n",
    "scan_opts = dict(ra0=[ra0+10],       # Center of scan\n",
    "                 dec0=[dec0+10],\n",
    "                 az_throw=az_throw,     # Scan width\n",
    "                 scan_speed=scan_speed)\n",
    "#soscan.allocate_maps(nside=256)\n",
    "soscan.scan_instrument_mpi(alm, **scan_opts)\n",
    "\n",
    "maps, cond = soscan.solve_for_map()"
   ]
  },
  {
   "cell_type": "code",
   "execution_count": null,
   "metadata": {},
   "outputs": [],
   "source": [
    "cond[cond == np.inf] = hp.UNSEEN\n",
    "cart_opts = dict(unit=r'[$\\mu K_{\\mathrm{CMB}}$]', lonra=[-100, 100], latra=[-70, 80])\n",
    "hp.cartview(cond, min=2, max=5, **cart_opts)\n",
    "hp.cartview(maps[0], min=-250, max=250, **cart_opts)\n",
    "hp.cartview(maps[1], min=-5, max=5, **cart_opts)\n",
    "hp.cartview(maps[2], min=-5, max=5, **cart_opts)"
   ]
  }
 ],
 "metadata": {
  "kernelspec": {
   "display_name": "Python 3",
   "language": "python",
   "name": "python3"
  }
 },
 "nbformat": 4,
 "nbformat_minor": 2
}
