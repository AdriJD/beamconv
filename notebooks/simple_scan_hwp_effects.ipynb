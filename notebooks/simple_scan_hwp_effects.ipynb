{
 "cells": [
  {
   "cell_type": "markdown",
   "metadata": {},
   "source": [
    "# Simple scanning simulations\n",
    "\n",
    "We want to use this notebook to look at the effects of a non-ideal half-wave plate on a simple scanning simulation. Let's start by loading up some modules that are needed for the analysis. "
   ]
  },
  {
   "cell_type": "code",
   "execution_count": 1,
   "metadata": {},
   "outputs": [],
   "source": [
    "import os, time\n",
    "import numpy as np\n",
    "import healpy as hp\n",
    "from beamconv import ScanStrategy, Beam\n",
    "import matplotlib\n",
    "import matplotlib.pyplot as plt\n"
   ]
  },
  {
   "cell_type": "code",
   "execution_count": 2,
   "metadata": {},
   "outputs": [
    {
     "name": "stdout",
     "output_type": "stream",
     "text": [
      "/Users/personal/.local/lib/python3.7/site-packages/qpoint/__init__.py\n"
     ]
    }
   ],
   "source": [
    "import qpoint as qp\n",
    "print(qp.__file__)"
   ]
  },
  {
   "cell_type": "markdown",
   "metadata": {},
   "source": [
    "Before starting the scanning simulation, we need to invoke some model of the underlying sky. For this example, we describe the sky as statistically isotropic and Gaussian I, Q, and U fields (with underlying power spectra and correlations as determined in the WMAP 7-year release)."
   ]
  },
  {
   "cell_type": "code",
   "execution_count": 3,
   "metadata": {},
   "outputs": [],
   "source": [
    "#cls = np.zeros((5,2700))\n",
    "#cls[0,:] = np.arange(2700, dtype=np.int16)\n",
    "cls = np.loadtxt('../ancillary/wmap7_r0p03_lensed_uK_ext.txt',\n",
    "                 unpack=True) # Cl in uK^2\n",
    "lmax=700 \n",
    "ell, cls = cls[0], cls[1:]\n",
    "np.random.seed(25) \n",
    "alm = hp.synalm(cls, lmax=lmax, new=True, verbose=True) # uK"
   ]
  },
  {
   "cell_type": "markdown",
   "metadata": {},
   "source": [
    "Here we set parameters that describe the pointing, the instrument and the beams. For this example, we just pick identical symmetric Gaussian beams with no cross-polarization. This will later allow us to easily check whether the code reproduces this known case."
   ]
  },
  {
   "cell_type": "code",
   "execution_count": 4,
   "metadata": {},
   "outputs": [],
   "source": [
    "fwhm = 40\n",
    "spider_hwp = Beam().hwp()\n",
    "spider_hwp.choose_HWP_model('SPIDER_95')\n",
    "beam_opts = dict(lmax=lmax,\n",
    "                 fwhm=fwhm,       # Gaussian co-pol beam, so only specify FWHM (arcmin)\n",
    "                 btype='Gaussian',hwp=spider_hwp, sensitive_freq=0.95e11)\n",
    "\n",
    "spin_opts = dict(max_spin=2,      # Symmetric beams, so 2 is sufficient\n",
    "                 nside_spin=256)  # nside of scanned maps \n",
    "\n",
    "scan_opts = dict(ra0=[-10],       # Center of scan\n",
    "                 dec0=[-57.5],\n",
    "                 az_throw=20,     # Scan width\n",
    "                 scan_speed=1,\n",
    "                 verbose=0)\n",
    "\n",
    "mlen        = 14 * 24 * 60 * 60        # Mission length in seconds\n",
    "rot_period  = 6 * 60 * 60\n",
    "step_period = 1.5 * 60 * 60"
   ]
  },
  {
   "cell_type": "markdown",
   "metadata": {},
   "source": [
    "An seasoned experimentalist might notice that we are defining scan regions and parameters that are not very dissimilar from that of the BICEP class of experiments. These experiments scan around 1-2% of the sky. Now that we have defined some of the boundary conditions of our experiment, we can start initializing scan strategy objects."
   ]
  },
  {
   "cell_type": "code",
   "execution_count": 5,
   "metadata": {},
   "outputs": [],
   "source": [
    "bideal = ScanStrategy(duration=mlen,\n",
    "                  sample_rate=12.01, # sample rate in Hz\n",
    "                  location='spole')  # Instrument at south pole (preset)\n",
    "bnideal = ScanStrategy(duration=mlen,\n",
    "                  sample_rate=12.01, # sample rate in Hz\n",
    "                  location='spole')  # Instrument at south pole (preset)\n",
    "\n",
    "# Create a 3 x 3 square grid of Gaussian beams (f.o.v. is 3 degrees)\n",
    "bideal.create_focal_plane(nrow=2, ncol=2, fov=3, no_pairs=True,**beam_opts)\n",
    "bnideal.create_focal_plane(nrow=2, ncol=2, fov=3, no_pairs=True,**beam_opts)\n",
    "\n",
    "# Calculate tods in two chunks\n",
    "chunks = bideal.partition_mission(0.5*bideal.mlen*bideal.fsamp) \n",
    "nideal_chunks = bnideal.partition_mission(0.5*bnideal.mlen*bnideal.fsamp) \n",
    "# Allocate and assign parameters for mapmaking\n",
    "bideal.allocate_maps(nside=256)\n",
    "bnideal.allocate_maps(nside=256)\n",
    "# Set instrument rotation\n",
    "bideal.set_instr_rot(period=rot_period, angles=[0,30, 60, 90, 60, 30, 0])\n",
    "bnideal.set_instr_rot(period=rot_period, angles=[0,30, 60, 90, 60, 30, 0])\n",
    "# Set elevation stepping\n",
    "bideal.set_el_steps(step_period, steps=[-4,-3,-2,-1,0,1,2,3,4])\n",
    "bnideal.set_el_steps(step_period, steps=[-4,-3,-2,-1,0,1,2,3,4])\n",
    "# Set HWP modulation\n",
    "bideal.set_hwp_mod(mode='continuous', freq=1.)#mode='continuous'\n",
    "bnideal.set_hwp_mod(mode='continuous', freq=1.)#mode='continuous'"
   ]
  },
  {
   "cell_type": "markdown",
   "metadata": {},
   "source": [
    "Here we actually scan the sky. We also solve for the I, Q and U maps and calculate the condition number of the per-pixel projection matrix. This might take a minute on a single core. Notice that the half-wave plate's argument accepts two values, 'ideal' and 'non-ideal'. Other values will raise a ValueError() Default is ideal."
   ]
  },
  {
   "cell_type": "code",
   "execution_count": 6,
   "metadata": {},
   "outputs": [
    {
     "ename": "TypeError",
     "evalue": "constant_el_scan() got unexpected arguments '['hwp_status']'",
     "output_type": "error",
     "traceback": [
      "\u001b[0;31m---------------------------------------------------------------------------\u001b[0m",
      "\u001b[0;31mTypeError\u001b[0m                                 Traceback (most recent call last)",
      "\u001b[0;32m<ipython-input-6-cd96f4135445>\u001b[0m in \u001b[0;36m<module>\u001b[0;34m\u001b[0m\n\u001b[1;32m      2\u001b[0m \u001b[0mstart_time\u001b[0m \u001b[0;34m=\u001b[0m \u001b[0mtime\u001b[0m\u001b[0;34m.\u001b[0m\u001b[0mtime\u001b[0m\u001b[0;34m(\u001b[0m\u001b[0;34m)\u001b[0m\u001b[0;34m\u001b[0m\u001b[0;34m\u001b[0m\u001b[0m\n\u001b[1;32m      3\u001b[0m \u001b[0;34m\u001b[0m\u001b[0m\n\u001b[0;32m----> 4\u001b[0;31m \u001b[0mbideal\u001b[0m\u001b[0;34m.\u001b[0m\u001b[0mscan_instrument_mpi\u001b[0m\u001b[0;34m(\u001b[0m\u001b[0malm\u001b[0m\u001b[0;34m,\u001b[0m \u001b[0mhwp_status\u001b[0m\u001b[0;34m=\u001b[0m\u001b[0;34m'ideal'\u001b[0m\u001b[0;34m,\u001b[0m \u001b[0;34m**\u001b[0m\u001b[0mscan_opts\u001b[0m\u001b[0;34m)\u001b[0m\u001b[0;34m\u001b[0m\u001b[0;34m\u001b[0m\u001b[0m\n\u001b[0m\u001b[1;32m      5\u001b[0m \u001b[0;34m\u001b[0m\u001b[0m\n\u001b[1;32m      6\u001b[0m \u001b[0mprint\u001b[0m\u001b[0;34m(\u001b[0m\u001b[0mtime\u001b[0m\u001b[0;34m.\u001b[0m\u001b[0mtime\u001b[0m\u001b[0;34m(\u001b[0m\u001b[0;34m)\u001b[0m\u001b[0;34m-\u001b[0m\u001b[0mstart_time\u001b[0m\u001b[0;34m)\u001b[0m\u001b[0;34m\u001b[0m\u001b[0;34m\u001b[0m\u001b[0m\n",
      "\u001b[0;32m~/.local/lib/python3.7/site-packages/beamconv-0.1-py3.7.egg/beamconv/instrument.py\u001b[0m in \u001b[0;36mscan_instrument_mpi\u001b[0;34m(self, alm, verbose, binning, create_memmap, scatter, reuse_spinmaps, interp, save_tod, save_point, ctalk, preview_pointing, filter_4fhwp, **kwargs)\u001b[0m\n\u001b[1;32m   1904\u001b[0m                     \u001b[0mces_opts\u001b[0m\u001b[0;34m.\u001b[0m\u001b[0mupdate\u001b[0m\u001b[0;34m(\u001b[0m\u001b[0mdict\u001b[0m\u001b[0;34m(\u001b[0m\u001b[0muse_precomputed\u001b[0m\u001b[0;34m=\u001b[0m\u001b[0;32mTrue\u001b[0m\u001b[0;34m)\u001b[0m\u001b[0;34m)\u001b[0m\u001b[0;34m\u001b[0m\u001b[0;34m\u001b[0m\u001b[0m\n\u001b[1;32m   1905\u001b[0m \u001b[0;34m\u001b[0m\u001b[0m\n\u001b[0;32m-> 1906\u001b[0;31m                 \u001b[0mself\u001b[0m\u001b[0;34m.\u001b[0m\u001b[0mconstant_el_scan\u001b[0m\u001b[0;34m(\u001b[0m\u001b[0;34m**\u001b[0m\u001b[0mces_opts\u001b[0m\u001b[0;34m)\u001b[0m\u001b[0;34m\u001b[0m\u001b[0;34m\u001b[0m\u001b[0m\n\u001b[0m\u001b[1;32m   1907\u001b[0m \u001b[0;34m\u001b[0m\u001b[0m\n\u001b[1;32m   1908\u001b[0m                 \u001b[0;31m# If needed, allocate arrays for data.\u001b[0m\u001b[0;34m\u001b[0m\u001b[0;34m\u001b[0m\u001b[0;34m\u001b[0m\u001b[0m\n",
      "\u001b[0;32m~/.local/lib/python3.7/site-packages/beamconv-0.1-py3.7.egg/beamconv/instrument.py\u001b[0m in \u001b[0;36mconstant_el_scan\u001b[0;34m(self, ra0, dec0, az_throw, scan_speed, az_prf, check_interval, el_min, cut_el_min, use_precomputed, q_bore_func, q_bore_kwargs, ctime_func, ctime_kwargs, **kwargs)\u001b[0m\n\u001b[1;32m   2196\u001b[0m         \u001b[0;32mif\u001b[0m \u001b[0mkwargs\u001b[0m\u001b[0;34m:\u001b[0m\u001b[0;34m\u001b[0m\u001b[0;34m\u001b[0m\u001b[0m\n\u001b[1;32m   2197\u001b[0m             raise TypeError(\"constant_el_scan() got unexpected \"\n\u001b[0;32m-> 2198\u001b[0;31m                 \"arguments '{}'\".format(list(kwargs)))\n\u001b[0m\u001b[1;32m   2199\u001b[0m \u001b[0;34m\u001b[0m\u001b[0m\n\u001b[1;32m   2200\u001b[0m         \u001b[0;32mif\u001b[0m \u001b[0mself\u001b[0m\u001b[0;34m.\u001b[0m\u001b[0mext_point\u001b[0m\u001b[0;34m:\u001b[0m\u001b[0;34m\u001b[0m\u001b[0;34m\u001b[0m\u001b[0m\n",
      "\u001b[0;31mTypeError\u001b[0m: constant_el_scan() got unexpected arguments '['hwp_status']'"
     ]
    }
   ],
   "source": [
    "# Generate timestreams, bin them and store as attributes\n",
    "start_time = time.time()\n",
    "\n",
    "bideal.scan_instrument_mpi(alm, **scan_opts)\n",
    "\n",
    "print(time.time()-start_time)\n",
    "\n",
    "# Solve for the maps\n",
    "ideal_maps, ideal_cond = bideal.solve_for_map()\n",
    "\n",
    "start_time = time.time()\n",
    "\n",
    "bnideal.scan_instrument_mpi(alm, **scan_opts)\n",
    "print(time.time()-start_time)\n",
    "\n",
    "maps, cond = bnideal.solve_for_map()\n"
   ]
  },
  {
   "cell_type": "markdown",
   "metadata": {},
   "source": [
    "# Results\n",
    "\n",
    "With the data generated and binned into maps, we can visualize the results. We plot the condition number map and the solved I, Q and U maps. We expect the condition number to be as low as possible (=2) for almost all pixels because of the continuous HWP rotation and the instrument rotation. We can see the differences between the non-ideal HWP model (top row) and the ideal one (bottom row)."
   ]
  },
  {
   "cell_type": "code",
   "execution_count": null,
   "metadata": {},
   "outputs": [],
   "source": [
    "cond[cond == np.inf] = hp.UNSEEN\n",
    "cart_opts = dict(unit=r'[$\\mu K_{\\mathrm{CMB}}$]', lonra=[-25, 10], latra=[-70, -45], hold=True)\n",
    "fig, axs = plt.subplots(ncols=4, nrows=2, figsize=(22, 10))\n",
    "plt.axes(axs[0,0])\n",
    "hp.cartview(cond, min=2, max=5, title='Quality factor', **cart_opts)\n",
    "plt.axes(axs[0,1])\n",
    "hp.cartview(maps[0], min=-250, max=250, title='I map', **cart_opts)\n",
    "plt.axes(axs[0,2])\n",
    "hp.cartview(maps[1], min=-3, max=3, title='Q map', **cart_opts)\n",
    "plt.axes(axs[0,3])\n",
    "hp.cartview(maps[2], min=-3, max=3, title='U map', **cart_opts)\n",
    "ideal_cond[ideal_cond == np.inf] = hp.UNSEEN\n",
    "plt.axes(axs[1,0])\n",
    "hp.cartview(ideal_cond, min=2, max=5, title='Quality factor', **cart_opts)\n",
    "plt.axes(axs[1,1])\n",
    "hp.cartview(ideal_maps[0], min=-250, max=250, title='I map', **cart_opts)\n",
    "plt.axes(axs[1,2])\n",
    "hp.cartview(ideal_maps[1], min=-3, max=3, title='Q map', **cart_opts)\n",
    "plt.axes(axs[1,3])\n",
    "hp.cartview(ideal_maps[2], min=-3, max=3, title='U map', **cart_opts)"
   ]
  },
  {
   "cell_type": "markdown",
   "metadata": {},
   "source": [
    "We can see leakeage between I and Q/U in the non-ideal map (usually) compared to the ideal HWP case. "
   ]
  },
  {
   "cell_type": "markdown",
   "metadata": {},
   "source": [
    "Finally, we can check the results by comparing them to the smoothed input map by plotting difference maps."
   ]
  },
  {
   "cell_type": "code",
   "execution_count": null,
   "metadata": {},
   "outputs": [],
   "source": [
    "hp.smoothalm(alm, fwhm=np.radians(fwhm / 60.))"
   ]
  },
  {
   "cell_type": "code",
   "execution_count": null,
   "metadata": {},
   "outputs": [],
   "source": [
    "sm_in = hp.alm2map(alm, hp.get_nside(maps[0]))\n",
    "ideal_diff = ideal_maps - sm_in\n",
    "diff = maps - sm_in"
   ]
  },
  {
   "cell_type": "code",
   "execution_count": null,
   "metadata": {},
   "outputs": [],
   "source": [
    "fig2, axs2 = plt.subplots(ncols=3, nrows=2, figsize=(22, 10))\n",
    "plt.axes(axs2[0,0])\n",
    "hp.cartview(diff[0], min=-1, max=1, title='I, non-ideal', **cart_opts)\n",
    "plt.axes(axs2[0,1])\n",
    "hp.cartview(diff[1], min=-1, max=1, title='Q, non-ideal', **cart_opts)\n",
    "plt.axes(axs2[0,2])\n",
    "hp.cartview(diff[2], min=0.9, max=1.1, title='U, non-ideal', **cart_opts)\n",
    "plt.axes(axs2[1,0])\n",
    "hp.cartview(ideal_diff[0], min=-1e-10, max=1e-10, title='I, ideal', **cart_opts)\n",
    "plt.axes(axs2[1,1])\n",
    "hp.cartview(ideal_diff[1], min=-1e-10, max=1e-10, title='Q, ideal', **cart_opts)\n",
    "plt.axes(axs2[1,2])\n",
    "hp.cartview(ideal_diff[2], min=-1e-10, max=1e-10, title='U, ideal', **cart_opts)"
   ]
  },
  {
   "cell_type": "markdown",
   "metadata": {},
   "source": [
    "So, up to some Q <-> U leakage at the 1e-10 uK level, we reproduce the expected result for the ideal HWP.\n"
   ]
  }
 ],
 "metadata": {
  "anaconda-cloud": {},
  "kernelspec": {
   "display_name": "Python 3",
   "language": "python",
   "name": "python3"
  },
  "language_info": {
   "codemirror_mode": {
    "name": "ipython",
    "version": 3
   },
   "file_extension": ".py",
   "mimetype": "text/x-python",
   "name": "python",
   "nbconvert_exporter": "python",
   "pygments_lexer": "ipython3",
   "version": "3.7.6"
  }
 },
 "nbformat": 4,
 "nbformat_minor": 1
}
