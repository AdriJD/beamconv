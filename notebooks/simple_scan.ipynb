{
 "cells": [
  {
   "cell_type": "markdown",
   "metadata": {},
   "source": [
    "# Simple scanning simulations\n",
    "\n",
    "We want to use this notebook to look at a simple scanning simulation. Let's start by loading up some modules that are needed for the analysis. "
   ]
  },
  {
   "cell_type": "code",
   "execution_count": null,
   "metadata": {},
   "outputs": [],
   "source": [
    "import numpy as np\n",
    "import healpy as hp\n",
    "from beamconv import ScanStrategy\n",
    "%matplotlib inline"
   ]
  },
  {
   "cell_type": "code",
   "execution_count": null,
   "metadata": {},
   "outputs": [],
   "source": [
    "import qpoint as qp\n",
    "print(qp.__file__)"
   ]
  },
  {
   "cell_type": "markdown",
   "metadata": {},
   "source": [
    "Before starting the scanning simulation, we need to invoke some model of the underlying sky. For this example, we describe the sky as statistically isotropic and Gaussian I, Q, and U fields (with underlying power spectra and correlations as determined in the WMAP 7-year release)."
   ]
  },
  {
   "cell_type": "code",
   "execution_count": null,
   "metadata": {},
   "outputs": [],
   "source": [
    "cls = np.loadtxt('../ancillary/wmap7_r0p03_lensed_uK_ext.txt',\n",
    "                 unpack=True) # Cl in uK^2\n",
    "lmax=700 \n",
    "ell, cls = cls[0], cls[1:]\n",
    "np.random.seed(25) \n",
    "alm = hp.synalm(cls, lmax=lmax, new=True, verbose=True) # uK"
   ]
  },
  {
   "cell_type": "markdown",
   "metadata": {},
   "source": [
    "Here we set parameters that describe the pointing, the instrument and the beams. For this example, we just pick identical symmetric Gaussian beams with no cross-polarization. This will later allow us to easily check whether the code reproduces this known case."
   ]
  },
  {
   "cell_type": "code",
   "execution_count": null,
   "metadata": {},
   "outputs": [],
   "source": [
    "fwhm = 40\n",
    "beam_opts = dict(lmax=lmax,\n",
    "                 fwhm=fwhm,       # Gaussian co-pol beam, so only specify FWHM (arcmin)\n",
    "                 btype='Gaussian')\n",
    "\n",
    "spin_opts = dict(max_spin=2,      # Symmetric beams, so 2 is sufficient\n",
    "                 nside_spin=256)  # nside of scanned maps \n",
    "\n",
    "scan_opts = dict(ra0=[-10],       # Center of scan\n",
    "                 dec0=[-57.5],\n",
    "                 az_throw=50,     # Scan width\n",
    "                 scan_speed=1)\n",
    "\n",
    "mlen        = 24 * 60 * 60        # Mission length in seconds\n",
    "rot_period  = 6 * 60 * 60\n",
    "step_period = 1.5 * 60 * 60"
   ]
  },
  {
   "cell_type": "markdown",
   "metadata": {},
   "source": [
    "An seasoned experimentalist might notice that we are defining scan regions and parameters that are not very dissimilar from that of the BICEP class of experiments. These experiments scan around 1-2% of the sky. Now that we have defined some of the boundary conditions of our experiment, we can start initializing scan strategy objects."
   ]
  },
  {
   "cell_type": "code",
   "execution_count": null,
   "metadata": {},
   "outputs": [],
   "source": [
    "b2 = ScanStrategy(duration=mlen,\n",
    "                  sample_rate=12.01, # sample rate in Hz\n",
    "                  location='spole')  # Instrument at south pole (preset)\n",
    "\n",
    "# Create a 3 x 3 square grid of Gaussian beams (f.o.v. is 3 degrees)\n",
    "b2.create_focal_plane(nrow=3, ncol=3, fov=3, \n",
    "                      **beam_opts)\n",
    "\n",
    "# Calculate tods in two chunks\n",
    "chunks = b2.partition_mission(0.5*b2.mlen*b2.fsamp) \n",
    "\n",
    "# Allocate and assign parameters for mapmaking\n",
    "b2.allocate_maps(nside=256)\n",
    "\n",
    "# Set instrument rotation\n",
    "b2.set_instr_rot(period=rot_period, angles=[68, 113, 248, 293])\n",
    "\n",
    "# Set elevation stepping\n",
    "b2.set_el_steps(step_period, steps=[-4, -3, -2, -1, 0, 1, 2, 3, 4, 4])\n",
    "\n",
    "# Set HWP modulation\n",
    "b2.set_hwp_mod(mode='continuous', freq=1.)"
   ]
  },
  {
   "cell_type": "raw",
   "metadata": {},
   "source": [
    "Here we actually scan the sky. We also solve for the I, Q and U maps and calculate the condition number of the per-pixel projection matrix. This might take a minute on a single core."
   ]
  },
  {
   "cell_type": "code",
   "execution_count": null,
   "metadata": {},
   "outputs": [],
   "source": [
    "# Generate timestreams, bin them and store as attributes\n",
    "b2.scan_instrument_mpi(alm, **scan_opts)\n",
    "# Solve for the maps\n",
    "maps, cond = b2.solve_for_map()"
   ]
  },
  {
   "cell_type": "markdown",
   "metadata": {},
   "source": [
    "# Results\n",
    "\n",
    "With the data generated and binned into maps, we can visualize the results. We plot the condition number map and the solved I, Q and U maps. We expect the condition number to be as low as possible (=2) for almost all pixels because of the continuous HWP rotation and the instrument rotation."
   ]
  },
  {
   "cell_type": "code",
   "execution_count": null,
   "metadata": {},
   "outputs": [],
   "source": [
    "cond[cond == np.inf] = hp.UNSEEN\n",
    "cart_opts = dict(unit=r'[$\\mu K_{\\mathrm{CMB}}$]', lonra=[-60, 40], latra=[-70, -40])\n",
    "hp.cartview(cond, min=2, max=5, **cart_opts)\n",
    "hp.cartview(maps[0], min=-250, max=250, **cart_opts)\n",
    "hp.cartview(maps[1], min=-5, max=5, **cart_opts)\n",
    "hp.cartview(maps[2], min=-5, max=5, **cart_opts)"
   ]
  },
  {
   "cell_type": "markdown",
   "metadata": {},
   "source": [
    "Finally, we can check the results by comparing them to the smoothed input map (remember, this is why we picked identical symmetric Gaussian beams) by plotting difference maps."
   ]
  },
  {
   "cell_type": "code",
   "execution_count": null,
   "metadata": {},
   "outputs": [],
   "source": [
    "hp.smoothalm(alm, fwhm=np.radians(fwhm / 60.))\n",
    "sm_in = hp.alm2map(alm, hp.get_nside(maps[0]))\n",
    "diff = maps - sm_in"
   ]
  },
  {
   "cell_type": "code",
   "execution_count": null,
   "metadata": {},
   "outputs": [],
   "source": [
    "hp.cartview(diff[0], min=-1e-10, max=1e-10, **cart_opts)\n",
    "hp.cartview(diff[1], min=-1e-10, max=1e-10, **cart_opts)\n",
    "hp.cartview(diff[2], min=-1e-10, max=1e-10, **cart_opts)"
   ]
  },
  {
   "cell_type": "markdown",
   "metadata": {},
   "source": [
    "So, up to some Q <-> U leakage at the 1e-10 uK level, we reproduce the expected result."
   ]
  }
 ],
 "metadata": {
  "anaconda-cloud": {},
  "kernelspec": {
   "display_name": "Python 3",
   "language": "python",
   "name": "python3"
  },
  "language_info": {
   "codemirror_mode": {
    "name": "ipython",
    "version": 3
   },
   "file_extension": ".py",
   "mimetype": "text/x-python",
   "name": "python",
   "nbconvert_exporter": "python",
   "pygments_lexer": "ipython3",
   "version": "3.8.0"
  }
 },
 "nbformat": 4,
 "nbformat_minor": 1
}
