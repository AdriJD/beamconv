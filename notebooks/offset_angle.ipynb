{
 "cells": [
  {
   "cell_type": "markdown",
   "metadata": {},
   "source": [
    "Let us look how compute the frequency-dependent phase $\\varphi(\\nu)$. \n",
    "The idea, according to what done in Matsumura2009 (http://www.jon.fysik.su.se/references/hwp_papers/Matsumura2009.pdf), is to take as $\\varphi(\\nu)$ the value of the half-wave plate angle $\\alpha$ for which the intensity reach the first maximum. As intensity we consider the $M_{IQ}^{instr}$ (we can also discuss if this choise is correct). \n",
    "For an 1-layer HWP the first maximum occurs at $\\alpha = 0$ for an AHWP this is not true. "
   ]
  },
  {
   "cell_type": "code",
   "execution_count": 1,
   "metadata": {},
   "outputs": [],
   "source": [
    "import numpy as np\n",
    "import matplotlib.pyplot as plt\n",
    "from beamconv import Beam\n",
    "import time"
   ]
  },
  {
   "cell_type": "markdown",
   "metadata": {},
   "source": [
    "We set the range for the frequency $\\nu$ and for the half-wave plate angle $\\alpha$. Setting $els = 0$ means that we are in the normal incidence case. "
   ]
  },
  {
   "cell_type": "code",
   "execution_count": 2,
   "metadata": {},
   "outputs": [],
   "source": [
    "nu = np.arange(55, 185, 0.2)\n",
    "els = 0.\n",
    "alpha = np.linspace(0,180,1801)"
   ]
  },
  {
   "cell_type": "markdown",
   "metadata": {},
   "source": [
    "This function compute the $\\varphi(\\nu)$ for one AHWP for each frequency in the range above.\n",
    "The mothod 'set_hwp_mueller' compute the mueller matrix fro the AHWP and 'get_mueller_top_row_full' compute the matrix $M^{instr}$ descibed by eq.5 in the LaTeX file.  "
   ]
  },
  {
   "cell_type": "code",
   "execution_count": 3,
   "metadata": {},
   "outputs": [],
   "source": [
    "def computing_offset_AHWP(nu,el,ahwp_name):\n",
    "    M = np.zeros((3,alpha.size), dtype=complex)\n",
    "    phase = np.zeros(nu.size)\n",
    "    beam = Beam()\n",
    "    beam.el = el\n",
    "    for j, freq in enumerate(nu):\n",
    "        beam.sensitive_freq = freq\n",
    "        beam.set_hwp_mueller(model_name=ahwp_name)\n",
    "        M[:,:] = beam.get_mueller_top_row_full(psi=np.zeros(alpha.size),\\\n",
    "                                               xi=np.zeros(alpha.size), alpha=np.radians(alpha))\n",
    "\n",
    "        phase[j] = np.radians(alpha[np.argmax(np.real(M[1,:800]), axis=0)])\n",
    "    return(phase)"
   ]
  },
  {
   "cell_type": "code",
   "execution_count": 4,
   "metadata": {},
   "outputs": [
    {
     "ename": "AttributeError",
     "evalue": "'Beam' object has no attribute 'get_mueller_top_row_full'",
     "output_type": "error",
     "traceback": [
      "\u001b[0;31m---------------------------------------------------------------------------\u001b[0m",
      "\u001b[0;31mAttributeError\u001b[0m                            Traceback (most recent call last)",
      "\u001b[0;32m<ipython-input-4-9e0ff8a00caa>\u001b[0m in \u001b[0;36m<module>\u001b[0;34m\u001b[0m\n\u001b[0;32m----> 1\u001b[0;31m \u001b[0mph3\u001b[0m \u001b[0;34m=\u001b[0m \u001b[0mnp\u001b[0m\u001b[0;34m.\u001b[0m\u001b[0mrad2deg\u001b[0m\u001b[0;34m(\u001b[0m\u001b[0mcomputing_offset_AHWP\u001b[0m\u001b[0;34m(\u001b[0m\u001b[0mnu\u001b[0m\u001b[0;34m,\u001b[0m\u001b[0mels\u001b[0m\u001b[0;34m,\u001b[0m\u001b[0;34m'3BR'\u001b[0m\u001b[0;34m)\u001b[0m\u001b[0;34m)\u001b[0m\u001b[0;34m\u001b[0m\u001b[0;34m\u001b[0m\u001b[0m\n\u001b[0m",
      "\u001b[0;32m<ipython-input-3-ba779d9c3ac1>\u001b[0m in \u001b[0;36mcomputing_offset_AHWP\u001b[0;34m(nu, el, ahwp_name)\u001b[0m\n\u001b[1;32m      7\u001b[0m         \u001b[0mbeam\u001b[0m\u001b[0;34m.\u001b[0m\u001b[0msensitive_freq\u001b[0m \u001b[0;34m=\u001b[0m \u001b[0mfreq\u001b[0m\u001b[0;34m\u001b[0m\u001b[0;34m\u001b[0m\u001b[0m\n\u001b[1;32m      8\u001b[0m         \u001b[0mbeam\u001b[0m\u001b[0;34m.\u001b[0m\u001b[0mset_hwp_mueller\u001b[0m\u001b[0;34m(\u001b[0m\u001b[0mmodel_name\u001b[0m\u001b[0;34m=\u001b[0m\u001b[0mahwp_name\u001b[0m\u001b[0;34m)\u001b[0m\u001b[0;34m\u001b[0m\u001b[0;34m\u001b[0m\u001b[0m\n\u001b[0;32m----> 9\u001b[0;31m         M[:,:] = beam.get_mueller_top_row_full(psi=np.zeros(alpha.size),\\\n\u001b[0m\u001b[1;32m     10\u001b[0m                                                xi=np.zeros(alpha.size), alpha=np.radians(alpha))\n\u001b[1;32m     11\u001b[0m \u001b[0;34m\u001b[0m\u001b[0m\n",
      "\u001b[0;31mAttributeError\u001b[0m: 'Beam' object has no attribute 'get_mueller_top_row_full'"
     ]
    }
   ],
   "source": [
    "ph3 = np.rad2deg(computing_offset_AHWP(nu,els,'3BR'))"
   ]
  },
  {
   "cell_type": "markdown",
   "metadata": {},
   "source": [
    "We plot now the frequency-dependent phase $\\varphi(\\nu)$."
   ]
  },
  {
   "cell_type": "code",
   "execution_count": 5,
   "metadata": {},
   "outputs": [
    {
     "ename": "NameError",
     "evalue": "name 'ph3' is not defined",
     "output_type": "error",
     "traceback": [
      "\u001b[0;31m---------------------------------------------------------------------------\u001b[0m",
      "\u001b[0;31mNameError\u001b[0m                                 Traceback (most recent call last)",
      "\u001b[0;32m<ipython-input-5-279dc4986ec5>\u001b[0m in \u001b[0;36m<module>\u001b[0;34m\u001b[0m\n\u001b[1;32m      4\u001b[0m \u001b[0mplt\u001b[0m\u001b[0;34m.\u001b[0m\u001b[0mrcParams\u001b[0m\u001b[0;34m[\u001b[0m\u001b[0;34m'axes.labelsize'\u001b[0m\u001b[0;34m]\u001b[0m \u001b[0;34m=\u001b[0m \u001b[0;36m13\u001b[0m\u001b[0;34m\u001b[0m\u001b[0;34m\u001b[0m\u001b[0m\n\u001b[1;32m      5\u001b[0m \u001b[0;34m\u001b[0m\u001b[0m\n\u001b[0;32m----> 6\u001b[0;31m \u001b[0max\u001b[0m\u001b[0;34m.\u001b[0m\u001b[0mplot\u001b[0m\u001b[0;34m(\u001b[0m\u001b[0mnu\u001b[0m\u001b[0;34m,\u001b[0m \u001b[0mph3\u001b[0m\u001b[0;34m[\u001b[0m\u001b[0;34m:\u001b[0m\u001b[0;34m]\u001b[0m\u001b[0;34m,\u001b[0m \u001b[0mcolor\u001b[0m \u001b[0;34m=\u001b[0m \u001b[0;34m'orange'\u001b[0m\u001b[0;34m,\u001b[0m \u001b[0mlinestyle\u001b[0m \u001b[0;34m=\u001b[0m \u001b[0;34m'-'\u001b[0m\u001b[0;34m,\u001b[0m \u001b[0malpha\u001b[0m \u001b[0;34m=\u001b[0m \u001b[0;36m1.\u001b[0m\u001b[0;34m,\u001b[0m\u001b[0mlabel\u001b[0m\u001b[0;34m=\u001b[0m\u001b[0;34m'BR3'\u001b[0m\u001b[0;34m)\u001b[0m\u001b[0;34m\u001b[0m\u001b[0;34m\u001b[0m\u001b[0m\n\u001b[0m\u001b[1;32m      7\u001b[0m \u001b[0;34m\u001b[0m\u001b[0m\n\u001b[1;32m      8\u001b[0m \u001b[0;31m## to plot our frequency-bands\u001b[0m\u001b[0;34m\u001b[0m\u001b[0;34m\u001b[0m\u001b[0;34m\u001b[0m\u001b[0m\n",
      "\u001b[0;31mNameError\u001b[0m: name 'ph3' is not defined"
     ]
    },
    {
     "data": {
      "image/png": "[encoded data removed]",
      "text/plain": [
       "<Figure size 1080x648 with 1 Axes>"
      ]
     },
     "metadata": {
      "needs_background": "light"
     },
     "output_type": "display_data"
    }
   ],
   "source": [
    "####################### 1D PLOT #######################\n",
    "f = plt.figure(figsize=(15, 9))\n",
    "ax = f.add_subplot(111)\n",
    "plt.rcParams['axes.labelsize'] = 13\n",
    "\n",
    "ax.plot(nu, ph3[:], color = 'orange', linestyle = '-', alpha = 1.,label='BR3')\n",
    "\n",
    "## to plot our frequency-bands\n",
    "ymax = ph3[:].max()\n",
    "ymin = ph3[:].min()\n",
    "y = [ymin,ymax]\n",
    "ax.fill_betweenx(y = y, x1 = 80, x2 = 110, color='grey', alpha=0.5)\n",
    "ax.fill_betweenx(y = y, x1 = 135,x2 = 165, color='grey', alpha=0.5)\n",
    "\n",
    "ax.set_xlabel('Frequency (GHz)')\n",
    "ax.set_ylabel('Offset angle (deg)')\n",
    "\n",
    "f.subplots_adjust(right=0.75)\n",
    "plt.legend(bbox_to_anchor=(1.04,.0), loc=\"lower left\", borderaxespad=0.1, prop={'size': 12}, facecolor='white',  \n",
    "    edgecolor='black', framealpha=1, ncol=1)\n"
   ]
  },
  {
   "cell_type": "markdown",
   "metadata": {},
   "source": [
    "Now to get the offset angle $\\varphi_0$ we have to use eq.28 of our paper."
   ]
  },
  {
   "cell_type": "code",
   "execution_count": null,
   "metadata": {},
   "outputs": [],
   "source": []
  }
 ],
 "metadata": {
  "kernelspec": {
   "display_name": "Python 3",
   "language": "python",
   "name": "python3"
  },
  "language_info": {
   "codemirror_mode": {
    "name": "ipython",
    "version": 3
   },
   "file_extension": ".py",
   "mimetype": "text/x-python",
   "name": "python",
   "nbconvert_exporter": "python",
   "pygments_lexer": "ipython3",
   "version": "3.7.6"
  }
 },
 "nbformat": 4,
 "nbformat_minor": 2
}
