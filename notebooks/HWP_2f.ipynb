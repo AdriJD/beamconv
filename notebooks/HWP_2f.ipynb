{
 "cells": [
  {
   "cell_type": "markdown",
   "metadata": {},
   "source": [
    "Let us look at the PSD of scans with and without HWP non-idealities."
   ]
  },
  {
   "cell_type": "code",
   "execution_count": null,
   "metadata": {},
   "outputs": [],
   "source": [
    "import matplotlib\n",
    "import matplotlib.pyplot as plt\n",
    "import numpy as np\n",
    "import os\n",
    "import time\n",
    "\n",
    "import healpy as hp\n",
    "\n",
    "from beamconv import Beam, ScanStrategy, tools"
   ]
  },
  {
   "cell_type": "code",
   "execution_count": null,
   "metadata": {},
   "outputs": [],
   "source": [
    "now = time.time()"
   ]
  },
  {
   "cell_type": "code",
   "execution_count": null,
   "metadata": {},
   "outputs": [],
   "source": [
    "lmax = 800\n",
    "fname='../ancillary/wmap7_r0p03_lensed_uK_ext.txt'\n",
    "cl_arr = np.loadtxt(fname, unpack=True)\n",
    "ells = cl_arr[0]\n",
    "cls = cl_arr[1:]\n",
    "np.random.seed(10)\n",
    "alm = hp.synalm(cls, lmax=lmax, new=True, verbose=True)"
   ]
  },
  {
   "cell_type": "code",
   "execution_count": null,
   "metadata": {},
   "outputs": [],
   "source": [
    "beam = Beam(btype='Gaussian', fwhm=32.2, lmax=lmax)\n",
    "beam.hwp_mueller = np.diag([1, 1, -1, -1])"
   ]
  },
  {
   "cell_type": "code",
   "execution_count": null,
   "metadata": {},
   "outputs": [],
   "source": [
    "S = ScanStrategy(100, sample_rate=100, location='spole', ctime0=now) \n",
    "S.add_to_focal_plane(beam, combine=False)\n",
    "S.set_hwp_mod(mode='continuous', freq=2.5)\n",
    "S.scan_instrument_mpi(alm, save_tod=True, save_point=True, binning=False, scan_speed=0.1, interp=True, nside_spin=512)\n",
    "tod_ideal = S.data(S.chunks[0], beam=beam, data_type='tod').copy()"
   ]
  },
  {
   "cell_type": "code",
   "execution_count": null,
   "metadata": {},
   "outputs": [],
   "source": [
    "beam2 = Beam(btype='Gaussian', fwhm=32.2, lmax=lmax)\n",
    "beam2.hwp_mueller = np.asarray([[1, 1, 0, 0], [1, 1, 0, 0], [0, 0, -1, 0], [0, 0, 0, -1]], dtype=float)"
   ]
  },
  {
   "cell_type": "code",
   "execution_count": null,
   "metadata": {},
   "outputs": [],
   "source": [
    "S2 = ScanStrategy(100, sample_rate=100, location='spole', ctime0=now) \n",
    "S2.add_to_focal_plane(beam2, combine=False)\n",
    "S2.set_hwp_mod(mode='continuous', freq=2.5)\n",
    "S2.scan_instrument_mpi(alm, save_tod=True, save_point=True, binning=False, scan_speed=0.1, interp=True, nside_spin=512)\n",
    "tod_nonideal = S2.data(S.chunks[0], beam=beam, data_type='tod').copy()"
   ]
  },
  {
   "cell_type": "code",
   "execution_count": null,
   "metadata": {},
   "outputs": [],
   "source": [
    "hwp_freq = S.hwp_dict['freq']\n",
    "fd = np.fft.rfft(tod_ideal)\n",
    "fd2 = np.fft.rfft(tod_nonideal)\n",
    "freqs = np.fft.rfftfreq(tod_ideal.size, d=1/S.fsamp)\n",
    "psd_ideal = np.abs(fd) ** 2\n",
    "psd_nonideal = np.abs(fd2) ** 2"
   ]
  },
  {
   "cell_type": "code",
   "execution_count": null,
   "metadata": {},
   "outputs": [],
   "source": [
    "fig, axs = plt.subplots(nrows=2, figsize=(10,6), sharex=True)\n",
    "for ax in axs.ravel():\n",
    "    ax.axvline(4 * hwp_freq, color='black', linestyle=':')\n",
    "    ax.axvline(2 * hwp_freq, color='black', linestyle=':')\n",
    "    ax.tick_params(direction='in', right=True, top=True, which='both')\n",
    "\n",
    "axs[0].set_ylabel('power [$\\mathrm{\\mu K_{CMB}^2 Hz^{-1}}$]')\n",
    "axs[0].plot(freqs, psd_nonideal, label='nonideal')\n",
    "axs[0].plot(freqs, psd_ideal, label='ideal', ls='--')\n",
    "axs[0].set_yscale('log')\n",
    "axs[0].legend()\n",
    "axs[0].annotate(r' $2f_{\\mathrm{HWP}}$', (2 * hwp_freq , 1e11),\n",
    "               xycoords='data')\n",
    "axs[0].annotate(r' $4f_{\\mathrm{HWP}}$', (4 * hwp_freq , 1e11),\n",
    "               xycoords='data')\n",
    "\n",
    "axs[1].set_ylabel('power nonideal - power ideal [$\\mathrm{\\mu K_{CMB}^2 Hz^{-1}}$]')\n",
    "axs[1].plot(freqs, psd_nonideal - psd_ideal)\n",
    "axs[1].set_xscale('log')\n",
    "axs[1].set_xlim(0.2 * hwp_freq)\n",
    "\n",
    "axs[1].set_xlabel('frequency [$\\mathrm{Hz}$]')\n",
    "plt.tight_layout()\n",
    "plt.subplots_adjust(hspace=0)\n",
    "plt.show(fig)"
   ]
  },
  {
   "cell_type": "code",
   "execution_count": null,
   "metadata": {},
   "outputs": [],
   "source": []
  }
 ],
 "metadata": {
  "kernelspec": {
   "display_name": "Python 3",
   "language": "python",
   "name": "python3"
  },
  "language_info": {
   "codemirror_mode": {
    "name": "ipython",
    "version": 3
   },
   "file_extension": ".py",
   "mimetype": "text/x-python",
   "name": "python",
   "nbconvert_exporter": "python",
   "pygments_lexer": "ipython3",
   "version": "3.8.0"
  }
 },
 "nbformat": 4,
 "nbformat_minor": 2
}
