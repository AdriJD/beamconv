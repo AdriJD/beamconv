{
 "cells": [
  {
   "cell_type": "markdown",
   "metadata": {},
   "source": [
    "# This notebook showcases the beamconv HWP class\n",
    "We start by importing the relevant libraries and items"
   ]
  },
  {
   "cell_type": "code",
   "execution_count": 1,
   "metadata": {},
   "outputs": [],
   "source": [
    "import os, pickle, time\n",
    "import numpy as np\n",
    "import healpy as hp\n",
    "import matplotlib.pyplot as plt\n",
    "from beamconv import ScanStrategy, Beam, tools\n",
    "import qpoint as qp\n",
    "import seaborn as sns\n",
    "sns.set()\n",
    "%matplotlib inline"
   ]
  },
  {
   "cell_type": "markdown",
   "metadata": {},
   "source": [
    "First, we define a beam. Notice there are two attributes starting with hwp: the class proper, and the precomputed Mueller matrix parameters $T, \\rho, c, s$. By default, the $\\tt hwp\\_precomp\\_mueller$, and the HWP class' only attribute, $\\tt stack$, are set to $\\tt None$"
   ]
  },
  {
   "cell_type": "code",
   "execution_count": 2,
   "metadata": {},
   "outputs": [],
   "source": [
    "beamy = Beam(name='beamy', sensitive_freq=2.8e11) "
   ]
  },
  {
   "cell_type": "code",
   "execution_count": 3,
   "metadata": {},
   "outputs": [
    {
     "name": "stdout",
     "output_type": "stream",
     "text": [
      "name    : beamy \n",
      "btype   : Gaussian \n",
      "alive   : True \n",
      "FWHM    : 43.2 arcmin \n",
      "az      : 0.0 deg \n",
      "el      : 0.0 deg \n",
      "polang  : 0.0 deg\n",
      "po_file : None \n",
      "\n",
      "<beamconv.detector.HWP object at 0x1159eaf10>\n",
      "None\n",
      "None\n"
     ]
    }
   ],
   "source": [
    "print beamy\n",
    "print beamy.hwp\n",
    "print beamy.hwp.stack\n",
    "print beamy.hwp_precomp_mueller"
   ]
  },
  {
   "cell_type": "markdown",
   "metadata": {},
   "source": [
    "We assign a stack to hwp from one of our predefined models (there are five, see the source code for their names and characteristics). Stacks are made of slices of specific thickness, with a name, a type (isotropic or uniaxial), and index/indices (if the material is uniaxial) and losses (the imaginary part of the index). The slices are supposed to extend to infinity in the xy plane, and be stacked in the z axis."
   ]
  },
  {
   "cell_type": "code",
   "execution_count": 4,
   "metadata": {},
   "outputs": [
    {
     "name": "stdout",
     "output_type": "stream",
     "text": [
      "\n",
      "\n",
      "______________________________________________________\n",
      "\n",
      "\n",
      "Layer 1: Thickness 0.000427\n",
      "\n",
      "\n",
      "Material: RT Duroid\n",
      "Material Type: isotropic\n",
      "Refractive Index: 1.951000\n",
      "Loss tangent: 0.001200\n",
      "\n",
      "\n",
      "______________________________________________________\n",
      "\n",
      "Layer 2: Thickness 0.004930\n",
      "\n",
      "\n",
      "Material: Sapphire\n",
      "Material Type: uniaxial\n",
      "Refractive Index (ordinary): 3.070000\n",
      "Refractive Index (extraordinary): 3.410000\n",
      "Loss Tangent (ordinary): 0.000230\n",
      "Loss Tangent (extraordinary): 0.000125\n",
      "\n",
      "\n",
      "\t Angle of extraordinary axis to x-axis: 0.000000\n",
      "______________________________________________________\n",
      "\n",
      "Layer 3: Thickness 0.000427\n",
      "\n",
      "\n",
      "Material: RT Duroid\n",
      "Material Type: isotropic\n",
      "Refractive Index: 1.951000\n",
      "Loss tangent: 0.001200\n",
      "\n",
      "\n",
      "______________________________________________________\n",
      "\n"
     ]
    }
   ],
   "source": [
    "beamy.hwp._choose_HWP_model(model_name='SPIDER')\n",
    "print beamy.hwp.stack"
   ]
  },
  {
   "cell_type": "markdown",
   "metadata": {},
   "source": [
    "We can then call the hwp method $\\tt \\_compute4params$ for a particular frequency and angle of incidence to calculate the $\\tt hwp\\_precomp\\_mueller$ for that particular beam."
   ]
  },
  {
   "cell_type": "code",
   "execution_count": 5,
   "metadata": {},
   "outputs": [
    {
     "name": "stdout",
     "output_type": "stream",
     "text": [
      "[ 0.9275709   0.01493953 -0.9355145  -0.35297227]\n"
     ]
    }
   ],
   "source": [
    "beamy.hwp_precomp_mueller = beamy.hwp._compute4params(freq=1e11, alpha= 0.01)\n",
    "print beamy.hwp_precomp_mueller"
   ]
  },
  {
   "cell_type": "markdown",
   "metadata": {},
   "source": [
    "We can also create our own material stack, by supplying $\\tt \\_stack\\_builder$ with its own layers. Layers will be named by a number. 'angles' corresponds to the rotation of the slice around the z-axis (with angles=0 for the extraordinary axis along x), we usually set it to be zero. Note that we now compute the Muelller parameters using the elevation and the sensitive frequency of the beam !"
   ]
  },
  {
   "cell_type": "code",
   "execution_count": 6,
   "metadata": {},
   "outputs": [
    {
     "name": "stdout",
     "output_type": "stream",
     "text": [
      "\n",
      "\n",
      "______________________________________________________\n",
      "\n",
      "\n",
      "Layer 1: Thickness 0.004300\n",
      "\n",
      "\n",
      "Material: 0\n",
      "Material Type: isotropic\n",
      "Refractive Index: 1.000000\n",
      "Loss tangent: 0.000000\n",
      "\n",
      "\n",
      "______________________________________________________\n",
      "\n",
      "[1. 0. 1. 0.]\n"
     ]
    }
   ],
   "source": [
    "thicknesses=np.array([4.3])\n",
    "indices = np.array([[1.,1.]])\n",
    "losses = np.array([[0.,0.]])\n",
    "angles = np.array([0.])\n",
    "beamy.hwp._stack_builder(thicknesses=thicknesses, indices=indices, losses=losses, angles=angles)\n",
    "print beamy.hwp.stack\n",
    "beamy.hwp_precomp_mueller = beamy.hwp._compute4params(freq=beamy.sensitive_freq, alpha= np.radians(beamy.el))\n",
    "print beamy.hwp_precomp_mueller"
   ]
  },
  {
   "cell_type": "markdown",
   "metadata": {},
   "source": [
    "$\\tt Beam$ also has a function that defines the stack and computes the parameters in one go. I would recommend using it instead of the other two"
   ]
  },
  {
   "cell_type": "code",
   "execution_count": 7,
   "metadata": {},
   "outputs": [
    {
     "name": "stdout",
     "output_type": "stream",
     "text": [
      "\n",
      "\n",
      "______________________________________________________\n",
      "\n",
      "\n",
      "Layer 1: Thickness 0.000305\n",
      "\n",
      "\n",
      "Material: RT Duroid\n",
      "Material Type: isotropic\n",
      "Refractive Index: 1.715000\n",
      "Loss tangent: 0.001200\n",
      "\n",
      "\n",
      "______________________________________________________\n",
      "\n",
      "Layer 2: Thickness 0.003150\n",
      "\n",
      "\n",
      "Material: Sapphire\n",
      "Material Type: uniaxial\n",
      "Refractive Index (ordinary): 3.070000\n",
      "Refractive Index (extraordinary): 3.410000\n",
      "Loss Tangent (ordinary): 0.000230\n",
      "Loss Tangent (extraordinary): 0.000125\n",
      "\n",
      "\n",
      "\t Angle of extraordinary axis to x-axis: 0.000000\n",
      "______________________________________________________\n",
      "\n",
      "Layer 3: Thickness 0.000305\n",
      "\n",
      "\n",
      "Material: RT Duroid\n",
      "Material Type: isotropic\n",
      "Refractive Index: 1.715000\n",
      "Loss tangent: 0.001200\n",
      "\n",
      "\n",
      "______________________________________________________\n",
      "\n",
      "[ 0.9326036  -0.00421984  0.99947879  0.03200518]\n"
     ]
    }
   ],
   "source": [
    "beamy._set_HWP_values(model_name='Ar+HWP+Ar', thicknesses=None, indices=None, losses=None, angles=None)\n",
    "print beamy.hwp.stack\n",
    "print beamy.hwp_precomp_mueller"
   ]
  },
  {
   "cell_type": "markdown",
   "metadata": {},
   "source": [
    "We generate some set of HWP angles $\\theta$ and boresight angles $\\psi$. We then call the $\\tt \\_get\\_Mueller\\_top\\_row $ method of the beam to get the values of the top-row elements of the complete Mueller matrix. $\\xi$ is the detector's angle."
   ]
  },
  {
   "cell_type": "code",
   "execution_count": 8,
   "metadata": {},
   "outputs": [],
   "source": [
    "theta = np.pi*np.arange(0,2, 0.01)\n",
    "psi = np.zeros(theta.size)\n",
    "M_II, M_IP, M_IP_bar = beamy._get_Mueller_top_row(xi=0.0, psi=psi, theta=theta)"
   ]
  },
  {
   "cell_type": "markdown",
   "metadata": {},
   "source": [
    "This works even if the $\\tt precomp\\_mueller$ has not be calculated, as the method will evaluate it from the $\\tt hwp.stack$ if there is none yet. It will only do so once for the beam's lifetime, which increases performance."
   ]
  },
  {
   "cell_type": "code",
   "execution_count": 9,
   "metadata": {},
   "outputs": [],
   "source": [
    "beamy.hwp_precomp_mueller=None\n",
    "beamy.hwp._choose_HWP_model(model_name='HWP_only')\n",
    "M_II, M_IP, M_IP_bar = beamy._get_Mueller_top_row(xi=0.0, psi=psi, theta=theta)"
   ]
  },
  {
   "cell_type": "code",
   "execution_count": 10,
   "metadata": {},
   "outputs": [
    {
     "data": {
      "image/png": "[encoded data removed]",
      "text/plain": [
       "<Figure size 432x288 with 1 Axes>"
      ]
     },
     "metadata": {
      "needs_background": "light"
     },
     "output_type": "display_data"
    },
    {
     "data": {
      "image/png": "[encoded data removed]",
      "text/plain": [
       "<Figure size 432x288 with 1 Axes>"
      ]
     },
     "metadata": {
      "needs_background": "light"
     },
     "output_type": "display_data"
    }
   ],
   "source": [
    "plt.figure(1)\n",
    "mip_plot = plt.plot(theta/np.pi, M_II, 'r', theta/np.pi, np.real(M_IP), 'g.', \n",
    "                    theta/np.pi, np.imag(M_IP), 'g:')\n",
    "plt.figure(2)\n",
    "mipbar_plot = plt.plot(theta/np.pi, M_II, 'r', theta/np.pi, np.real(M_IP_bar), 'b.', \n",
    "                     theta/np.pi, np.imag(M_IP_bar), 'b:')"
   ]
  },
  {
   "cell_type": "markdown",
   "metadata": {},
   "source": [
    "We want to estimate the gain of varous HWPs, as a function of beam frequency and angle of incidence"
   ]
  },
  {
   "cell_type": "code",
   "execution_count": null,
   "metadata": {},
   "outputs": [],
   "source": [
    "elevations = np.arange(0,90,1)\n",
    "frequencies = np.arange(50e9, 300e9, 1e9)\n",
    "Mis = np.zeros((elevations.size, frequencies.size,4))\n",
    "Mip = np.zeros((elevations.size,frequencies.size,4), dtype=np.complex128)\n",
    "Mipbar = np.zeros((elevations.size,frequencies.size,4), dtype=np.complex128)\n",
    "theta = 0\n",
    "psi = 0\n",
    "for i in range (elevations.size):\n",
    "    beamy.el = elevations[i]\n",
    "    for j in range(frequencies.size):\n",
    "        beamy.sensitive_freq = frequencies[j]\n",
    "        beamy._set_HWP_values(model_name='HWP_only')\n",
    "        Mis[i,j,0], Mip[i,j,0], Mipbar[i,j,0] = beamy._get_Mueller_top_row(xi=0.0, psi=psi, theta=theta)\n",
    "        beamy._set_HWP_values(model_name='Ar+HWP+Ar')\n",
    "        Mis[i,j,1], Mip[i,j,1], Mipbar[i,j,1] = beamy._get_Mueller_top_row(xi=0.0, psi=psi, theta=theta)\n",
    "        beamy._set_HWP_values(model_name='Ar1+Ar2+HWP+Ar2+Ar1')\n",
    "        Mis[i,j,2], Mip[i,j,2], Mipbar[i,j,2] = beamy._get_Mueller_top_row(xi=0.0, psi=psi, theta=theta)\n",
    "        beamy._set_HWP_values(model_name='SPIDER')\n",
    "        Mis[i,j,3], Mip[i,j,3], Mipbar[i,j,3] = beamy._get_Mueller_top_row(xi=0.0, psi=psi, theta=theta)\n",
    "\n"
   ]
  },
  {
   "cell_type": "code",
   "execution_count": null,
   "metadata": {},
   "outputs": [],
   "source": [
    "a =plt.figure(1)\n",
    "HWP_only=plt.plot(elevations, Mis[:,0,0]/.5, label='HWP_only')\n",
    "ARHWP = plt.plot(elevations, Mis[:,0,1]/.5, label = 'Ar+HWP+Ar')\n",
    "DoubleAR = plt.plot(elevations, Mis[:,0,2]/.5, label = 'Ar1+Ar2+HWP+Ar2+Ar1')\n",
    "SpiderHWP = plt.plot(elevations, Mis[:,0,3]/.5, label='SPIDER HWP')\n",
    "plt.xlabel('elevation angle (degrees)')\n",
    "plt.ylabel(r'$M_{II}/M_{II \\: ideal}$')\n",
    "plt.legend()\n",
    "b =plt.figure(2)\n",
    "plt.plot(elevations, np.real(Mip)[:,0,0]/.25, label='HWP_only')\n",
    "plt.plot(elevations, np.real(Mip)[:,0,1]/.25, label = 'Ar+HWP+Ar') \n",
    "plt.plot(elevations, np.real(Mip)[:,0,2]/.25, label = 'Ar1+Ar2+HWP+Ar2+Ar1')\n",
    "plt.plot(elevations, np.real(Mip)[:,0,3]/.25, label='SPIDER HWP')\n",
    "plt.xlabel('elevation angle (degrees)')\n",
    "plt.ylabel(r'$M_{IP}/M_{IP \\: ideal}$')\n",
    "plt.legend()"
   ]
  },
  {
   "cell_type": "code",
   "execution_count": null,
   "metadata": {
    "scrolled": true
   },
   "outputs": [],
   "source": [
    "fig, axes = plt.subplots(2, 2, figsize=(30,15))\n",
    "axes[0,0].set_xlabel('Frequency (GHz)')\n",
    "axes[0,0].set_ylabel(r'Beam elevation ($\\:^\\circ$)')\n",
    "axes[0,0].set_title('HWP only')\n",
    "axes[0,1].set_xlabel('Frequency (GHz)')\n",
    "axes[0,1].set_ylabel(r'Beam elevation ($\\:^\\circ$)')\n",
    "axes[0,1].set_title('Ar+HWP+Ar')\n",
    "axes[1,0].set_xlabel('Frequency (GHz)')\n",
    "axes[1,0].set_ylabel(r'Beam elevation ($\\:^\\circ$)')\n",
    "axes[1,0].set_title('Ar1+Ar2+HWP+Ar2+Ar1')\n",
    "axes[1,1].set_xlabel('Frequency (GHz)')\n",
    "axes[1,1].set_ylabel(r'Beam elevation ($\\:^\\circ$)')\n",
    "axes[1,1].set_title('SPIDER HWP')\n",
    "ul = axes[0,0].contourf(frequencies/1e9,elevations,Mis[:,:,0]/.5,10)\n",
    "plt.colorbar(ul, ax=axes[0,0])\n",
    "ur = axes[0,1].contourf(frequencies/1e9,elevations,Mis[:,:,1]/.5,10)\n",
    "plt.colorbar(ur, ax=axes[0,1])\n",
    "ll = axes[1,0].contourf(frequencies/1e9,elevations,Mis[:,:,2]/.5,10)\n",
    "plt.colorbar(ll, ax=axes[1,0])\n",
    "lr = axes[1,1].contourf(frequencies/1e9,elevations,Mis[:,:,3]/.5,10)\n",
    "plt.colorbar(lr, ax=axes[1,1])"
   ]
  },
  {
   "cell_type": "code",
   "execution_count": null,
   "metadata": {},
   "outputs": [],
   "source": []
  }
 ],
 "metadata": {
  "celltoolbar": "Aucun(e)",
  "kernelspec": {
   "display_name": "Python 2",
   "language": "python",
   "name": "python2"
  },
  "language_info": {
   "codemirror_mode": {
    "name": "ipython",
    "version": 2
   },
   "file_extension": ".py",
   "mimetype": "text/x-python",
   "name": "python",
   "nbconvert_exporter": "python",
   "pygments_lexer": "ipython2",
   "version": "2.7.16"
  }
 },
 "nbformat": 4,
 "nbformat_minor": 2
}
