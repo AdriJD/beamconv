{
 "cells": [
  {
   "cell_type": "markdown",
   "metadata": {},
   "source": [
    "# Single detector scanning"
   ]
  },
  {
   "cell_type": "code",
   "execution_count": 1,
   "metadata": {
    "collapsed": true
   },
   "outputs": [],
   "source": [
    "import os\n",
    "import numpy as np\n",
    "import healpy as hp\n",
    "from cmb_beams import ScanStrategy\n",
    "from beamconv import tools\n",
    "import matplotlib.pyplot as plt\n",
    "import time\n",
    "import qpoint as qp\n",
    "%matplotlib inline"
   ]
  },
  {
   "cell_type": "code",
   "execution_count": 2,
   "metadata": {
    "collapsed": true
   },
   "outputs": [],
   "source": [
    "def get_cls(fname='../ancillary/wmap7_r0p03_lensed_uK_ext.txt'):\n",
    "    cls = np.loadtxt(fname, unpack=True) # Cl in uK^2\n",
    "    return cls[0], cls[1:]"
   ]
  },
  {
   "cell_type": "code",
   "execution_count": 3,
   "metadata": {
    "collapsed": true
   },
   "outputs": [],
   "source": [
    "nsamp=1000\n",
    "lmax=700\n",
    "fwhm=30.\n",
    "ra0=-10 \n",
    "dec0=-57.5\n",
    "az_throw=50\n",
    "scan_speed=2.8\n",
    "rot_period=4.5*60*60\n",
    "mmax=5\n",
    "nside_spin=512"
   ]
  },
  {
   "cell_type": "code",
   "execution_count": 4,
   "metadata": {
    "collapsed": true
   },
   "outputs": [],
   "source": [
    "# Load up alm                                                                            \n",
    "ell, cls = get_cls()\n",
    "np.random.seed(39)\n",
    "alm = hp.synalm(cls, lmax=lmax, new=True, verbose=True) # uK  "
   ]
  },
  {
   "cell_type": "code",
   "execution_count": 8,
   "metadata": {
    "collapsed": false
   },
   "outputs": [],
   "source": [
    "# create Beam properties and pickle (this is just to test load_focal_plane)              \n",
    "import tempfile\n",
    "import shutil\n",
    "import pickle\n",
    "opj = os.path.join\n",
    "\n",
    "blm_dir = os.path.abspath(opj('../tests/test_data/example_blms'))\n",
    "\n",
    "po_file = opj(blm_dir, 'blm_hp_X1T1R1C8A_800_800.npy')\n",
    "eg_file = opj(blm_dir, 'blm_hp_eg_X1T1R1C8A_800_800.npy')\n",
    "\n",
    "#tmp_dir = tempfile.mkdtemp()\n",
    "\n",
    "beam_file = 'beam_opts.pkl'\n",
    "beam_opts = dict(az=0,\n",
    "                 el=0,\n",
    "                 polang=0.,\n",
    "                 btype='Gaussian',\n",
    "                 name='X1T1R1C8',\n",
    "                 fwhm=32.2,\n",
    "                 lmax=800,\n",
    "                 mmax=800,\n",
    "                 amplitude=1.,\n",
    "                 po_file=po_file,\n",
    "                 eg_file=eg_file,\n",
    "                 deconv_q=True,  # blm are SH coeff from hp.alm2map                      \n",
    "                 normalize=True)"
   ]
  },
  {
   "cell_type": "code",
   "execution_count": 11,
   "metadata": {
    "collapsed": false
   },
   "outputs": [
    {
     "name": "stdout",
     "output_type": "stream",
     "text": [
      "beam_opts.pkl\n",
      "Scanning with 2 detectors\n",
      "[rank 000]: working on: X1T1R1C8A, X1T1R1C8B\n",
      "[rank 000]:\tWorking on chunk 000: samples 0-1000\n"
     ]
    }
   ],
   "source": [
    "print(beam_file)\n",
    "\n",
    "with open(beam_file, 'wb') as handle:\n",
    "    pickle.dump(beam_opts, handle, protocol=pickle.HIGHEST_PROTOCOL)\n",
    "\n",
    "# init scan strategy and instrument                                                      \n",
    "ss = ScanStrategy(nsamp/10., # mission duration in sec.                                  \n",
    "                  sample_rate=10, # 10 Hz sample rate                                    \n",
    "                  location='spole') # South pole instrument                              \n",
    "\n",
    "ss.load_focal_plane('.', no_pairs=True)\n",
    "\n",
    "# remove tmp dir and contents                                                            \n",
    "#shutil.rmtree(tmp_dir)\n",
    "\n",
    "# Generate timestreams with Gaussian beams and plot them                                 \n",
    "ss.scan_instrument_mpi(alm, verbose=1, ra0=ra0, dec0=dec0, az_throw=az_throw,\n",
    "                       nside_spin=nside_spin, max_spin=mmax, binning=False)"
   ]
  },
  {
   "cell_type": "code",
   "execution_count": 12,
   "metadata": {
    "collapsed": false
   },
   "outputs": [
    {
     "name": "stdout",
     "output_type": "stream",
     "text": [
      "Scanning with 2 detectors\n",
      "[rank 000]: working on: X1T1R1C8A, X1T1R1C8B\n"
     ]
    },
    {
     "ename": "ValueError",
     "evalue": "operands could not be broadcast together with shapes (1,321201) (801,) (1,321201) ",
     "output_type": "error",
     "traceback": [
      "\u001b[0;31m---------------------------------------------------------------------------\u001b[0m",
      "\u001b[0;31mValueError\u001b[0m                                Traceback (most recent call last)",
      "\u001b[0;32m<ipython-input-12-26e2671459d0>\u001b[0m in \u001b[0;36m<module>\u001b[0;34m()\u001b[0m\n\u001b[1;32m      8\u001b[0m \u001b[0mss\u001b[0m\u001b[0;34m.\u001b[0m\u001b[0mbeams\u001b[0m\u001b[0;34m[\u001b[0m\u001b[0;36m0\u001b[0m\u001b[0;34m]\u001b[0m\u001b[0;34m[\u001b[0m\u001b[0;36m0\u001b[0m\u001b[0;34m]\u001b[0m\u001b[0;34m.\u001b[0m\u001b[0mbtype\u001b[0m \u001b[0;34m=\u001b[0m \u001b[0;34m'EG'\u001b[0m\u001b[0;34m\u001b[0m\u001b[0m\n\u001b[1;32m      9\u001b[0m ss.scan_instrument_mpi(alm, verbose=1, ra0=ra0, dec0=dec0, az_throw=az_throw,\n\u001b[0;32m---> 10\u001b[0;31m                        nside_spin=nside_spin, max_spin=mmax, binning=False)\n\u001b[0m\u001b[1;32m     11\u001b[0m \u001b[0max1\u001b[0m\u001b[0;34m.\u001b[0m\u001b[0mplot\u001b[0m\u001b[0;34m(\u001b[0m\u001b[0mss\u001b[0m\u001b[0;34m.\u001b[0m\u001b[0mtod\u001b[0m\u001b[0;34m,\u001b[0m \u001b[0mlabel\u001b[0m\u001b[0;34m=\u001b[0m\u001b[0;34m'ell. Gaussian'\u001b[0m\u001b[0;34m,\u001b[0m \u001b[0mlinewidth\u001b[0m\u001b[0;34m=\u001b[0m\u001b[0;36m0.7\u001b[0m\u001b[0;34m)\u001b[0m\u001b[0;34m\u001b[0m\u001b[0m\n\u001b[1;32m     12\u001b[0m \u001b[0;34m\u001b[0m\u001b[0m\n",
      "\u001b[0;32m/Users/jon/.local/lib/python2.7/site-packages/cmb_beams-0.1-py2.7.egg/cmb_beams/instrument.pyc\u001b[0m in \u001b[0;36mscan_instrument_mpi\u001b[0;34m(self, alm, verbose, binning, create_memmap, **kwargs)\u001b[0m\n\u001b[1;32m   1207\u001b[0m                                  verbose=(verbose==2))\n\u001b[1;32m   1208\u001b[0m \u001b[0;34m\u001b[0m\u001b[0m\n\u001b[0;32m-> 1209\u001b[0;31m             \u001b[0mself\u001b[0m\u001b[0;34m.\u001b[0m\u001b[0minit_detpair\u001b[0m\u001b[0;34m(\u001b[0m\u001b[0malm\u001b[0m\u001b[0;34m,\u001b[0m \u001b[0mbeam_a\u001b[0m\u001b[0;34m,\u001b[0m \u001b[0mbeam_b\u001b[0m\u001b[0;34m,\u001b[0m \u001b[0;34m**\u001b[0m\u001b[0mspinmaps_opts\u001b[0m\u001b[0;34m)\u001b[0m\u001b[0;34m\u001b[0m\u001b[0m\n\u001b[0m\u001b[1;32m   1210\u001b[0m \u001b[0;34m\u001b[0m\u001b[0m\n\u001b[1;32m   1211\u001b[0m             \u001b[0;32mif\u001b[0m \u001b[0;32mnot\u001b[0m \u001b[0mhasattr\u001b[0m\u001b[0;34m(\u001b[0m\u001b[0mself\u001b[0m\u001b[0;34m,\u001b[0m \u001b[0;34m'chunks'\u001b[0m\u001b[0;34m)\u001b[0m\u001b[0;34m:\u001b[0m\u001b[0;34m\u001b[0m\u001b[0m\n",
      "\u001b[0;32m/Users/jon/.local/lib/python2.7/site-packages/cmb_beams-0.1-py2.7.egg/cmb_beams/instrument.pyc\u001b[0m in \u001b[0;36minit_detpair\u001b[0;34m(self, alm, beam_a, beam_b, **kwargs)\u001b[0m\n\u001b[1;32m   1118\u001b[0m \u001b[0;34m\u001b[0m\u001b[0m\n\u001b[1;32m   1119\u001b[0m \u001b[0;34m\u001b[0m\u001b[0m\n\u001b[0;32m-> 1120\u001b[0;31m         \u001b[0mself\u001b[0m\u001b[0;34m.\u001b[0m\u001b[0minit_spinmaps\u001b[0m\u001b[0;34m(\u001b[0m\u001b[0malm\u001b[0m\u001b[0;34m,\u001b[0m \u001b[0mbeam_obj\u001b[0m\u001b[0;34m=\u001b[0m\u001b[0mbeam_a\u001b[0m\u001b[0;34m,\u001b[0m \u001b[0;34m**\u001b[0m\u001b[0mkwargs\u001b[0m\u001b[0;34m)\u001b[0m\u001b[0;34m\u001b[0m\u001b[0m\n\u001b[0m\u001b[1;32m   1121\u001b[0m \u001b[0;34m\u001b[0m\u001b[0m\n\u001b[1;32m   1122\u001b[0m         \u001b[0;31m# free blm attributes\u001b[0m\u001b[0;34m\u001b[0m\u001b[0;34m\u001b[0m\u001b[0m\n",
      "\u001b[0;32m/Users/jon/.local/lib/python2.7/site-packages/cmb_beams-0.1-py2.7.egg/cmb_beams/instrument.pyc\u001b[0m in \u001b[0;36minit_spinmaps\u001b[0;34m(self, alm, blm, max_spin, nside_spin, verbose, beam_obj)\u001b[0m\n\u001b[1;32m   1800\u001b[0m \u001b[0;34m\u001b[0m\u001b[0m\n\u001b[1;32m   1801\u001b[0m             \u001b[0mmax_s\u001b[0m \u001b[0;34m=\u001b[0m \u001b[0mmin\u001b[0m\u001b[0;34m(\u001b[0m\u001b[0mbeam_obj\u001b[0m\u001b[0;34m.\u001b[0m\u001b[0mmmax\u001b[0m\u001b[0;34m,\u001b[0m \u001b[0mmax_spin\u001b[0m\u001b[0;34m)\u001b[0m\u001b[0;34m\u001b[0m\u001b[0m\n\u001b[0;32m-> 1802\u001b[0;31m             \u001b[0mblm\u001b[0m \u001b[0;34m=\u001b[0m \u001b[0mbeam_obj\u001b[0m\u001b[0;34m.\u001b[0m\u001b[0mblm\u001b[0m \u001b[0;31m# main beam\u001b[0m\u001b[0;34m\u001b[0m\u001b[0m\n\u001b[0m\u001b[1;32m   1803\u001b[0m \u001b[0;34m\u001b[0m\u001b[0m\n\u001b[1;32m   1804\u001b[0m             \u001b[0;31m# calculate spinmaps for main beam\u001b[0m\u001b[0;34m\u001b[0m\u001b[0;34m\u001b[0m\u001b[0m\n",
      "\u001b[0;32m/Users/jon/.local/lib/python2.7/site-packages/cmb_beams-0.1-py2.7.egg/cmb_beams/detector.pyc\u001b[0m in \u001b[0;36mblm\u001b[0;34m(self)\u001b[0m\n\u001b[1;32m    219\u001b[0m                 \u001b[0;32melif\u001b[0m \u001b[0mself\u001b[0m\u001b[0;34m.\u001b[0m\u001b[0mbtype\u001b[0m \u001b[0;34m==\u001b[0m \u001b[0;34m'EG'\u001b[0m\u001b[0;34m:\u001b[0m\u001b[0;34m\u001b[0m\u001b[0m\n\u001b[1;32m    220\u001b[0m                     self.load_blm(self.eg_file, deconv_q=self.deconv_q, \n\u001b[0;32m--> 221\u001b[0;31m                                   normalize=self.normalize)\n\u001b[0m\u001b[1;32m    222\u001b[0m                     \u001b[0;32mreturn\u001b[0m \u001b[0mself\u001b[0m\u001b[0;34m.\u001b[0m\u001b[0m__blm\u001b[0m\u001b[0;34m\u001b[0m\u001b[0m\n\u001b[1;32m    223\u001b[0m \u001b[0;34m\u001b[0m\u001b[0m\n",
      "\u001b[0;32m/Users/jon/.local/lib/python2.7/site-packages/cmb_beams-0.1-py2.7.egg/cmb_beams/detector.pyc\u001b[0m in \u001b[0;36mload_blm\u001b[0;34m(self, filename, **kwargs)\u001b[0m\n\u001b[1;32m    318\u001b[0m \u001b[0;34m\u001b[0m\u001b[0m\n\u001b[1;32m    319\u001b[0m             \u001b[0;31m# create spin \\pm 2 components\u001b[0m\u001b[0;34m\u001b[0m\u001b[0;34m\u001b[0m\u001b[0m\n\u001b[0;32m--> 320\u001b[0;31m             \u001b[0mself\u001b[0m\u001b[0;34m.\u001b[0m\u001b[0mblm\u001b[0m \u001b[0;34m=\u001b[0m \u001b[0mtools\u001b[0m\u001b[0;34m.\u001b[0m\u001b[0mget_copol_blm\u001b[0m\u001b[0;34m(\u001b[0m\u001b[0mblm\u001b[0m\u001b[0;34m,\u001b[0m \u001b[0;34m**\u001b[0m\u001b[0mkwargs\u001b[0m\u001b[0;34m)\u001b[0m\u001b[0;34m\u001b[0m\u001b[0m\n\u001b[0m\u001b[1;32m    321\u001b[0m \u001b[0;34m\u001b[0m\u001b[0m\n\u001b[1;32m    322\u001b[0m     \u001b[0;32mdef\u001b[0m \u001b[0mcreate_ghost\u001b[0m\u001b[0;34m(\u001b[0m\u001b[0mself\u001b[0m\u001b[0;34m,\u001b[0m \u001b[0mtag\u001b[0m\u001b[0;34m=\u001b[0m\u001b[0;34m'ghost'\u001b[0m\u001b[0;34m,\u001b[0m \u001b[0;34m**\u001b[0m\u001b[0mkwargs\u001b[0m\u001b[0;34m)\u001b[0m\u001b[0;34m:\u001b[0m\u001b[0;34m\u001b[0m\u001b[0m\n",
      "\u001b[0;32m/Users/jon/.local/lib/python2.7/site-packages/cmb_beams-0.1-py2.7.egg/cmb_beams/tools.pyc\u001b[0m in \u001b[0;36mget_copol_blm\u001b[0;34m(blm, c2_fwhm, **kwargs)\u001b[0m\n\u001b[1;32m    246\u001b[0m     '''\n\u001b[1;32m    247\u001b[0m     \u001b[0;31m# normalize beams\u001b[0m\u001b[0;34m\u001b[0m\u001b[0;34m\u001b[0m\u001b[0m\n\u001b[0;32m--> 248\u001b[0;31m     \u001b[0mblm\u001b[0m \u001b[0;34m=\u001b[0m \u001b[0mscale_blm\u001b[0m\u001b[0;34m(\u001b[0m\u001b[0mblm\u001b[0m\u001b[0;34m,\u001b[0m \u001b[0;34m**\u001b[0m\u001b[0mkwargs\u001b[0m\u001b[0;34m)\u001b[0m\u001b[0;34m\u001b[0m\u001b[0m\n\u001b[0m\u001b[1;32m    249\u001b[0m \u001b[0;34m\u001b[0m\u001b[0m\n\u001b[1;32m    250\u001b[0m     \u001b[0mblmm2\u001b[0m\u001b[0;34m,\u001b[0m \u001b[0mblmp2\u001b[0m \u001b[0;34m=\u001b[0m \u001b[0munpol2pol\u001b[0m\u001b[0;34m(\u001b[0m\u001b[0mblm\u001b[0m\u001b[0;34m)\u001b[0m\u001b[0;34m\u001b[0m\u001b[0m\n",
      "\u001b[0;32m/Users/jon/.local/lib/python2.7/site-packages/cmb_beams-0.1-py2.7.egg/cmb_beams/tools.pyc\u001b[0m in \u001b[0;36mscale_blm\u001b[0;34m(blm, normalize, deconv_q)\u001b[0m\n\u001b[1;32m    143\u001b[0m \u001b[0;34m\u001b[0m\u001b[0m\n\u001b[1;32m    144\u001b[0m     \u001b[0;32mif\u001b[0m \u001b[0mdeconv_q\u001b[0m\u001b[0;34m:\u001b[0m\u001b[0;34m\u001b[0m\u001b[0m\n\u001b[0;32m--> 145\u001b[0;31m         \u001b[0mblm\u001b[0m \u001b[0;34m*=\u001b[0m \u001b[0;36m2\u001b[0m \u001b[0;34m*\u001b[0m \u001b[0mnp\u001b[0m\u001b[0;34m.\u001b[0m\u001b[0msqrt\u001b[0m\u001b[0;34m(\u001b[0m\u001b[0mnp\u001b[0m\u001b[0;34m.\u001b[0m\u001b[0mpi\u001b[0m \u001b[0;34m/\u001b[0m \u001b[0;34m(\u001b[0m\u001b[0;36m2\u001b[0m \u001b[0;34m*\u001b[0m \u001b[0mell\u001b[0m \u001b[0;34m+\u001b[0m \u001b[0;36m1\u001b[0m\u001b[0;34m)\u001b[0m\u001b[0;34m)\u001b[0m\u001b[0;34m\u001b[0m\u001b[0m\n\u001b[0m\u001b[1;32m    146\u001b[0m     \u001b[0;32mif\u001b[0m \u001b[0mnormalize\u001b[0m\u001b[0;34m:\u001b[0m\u001b[0;34m\u001b[0m\u001b[0m\n\u001b[1;32m    147\u001b[0m         \u001b[0mblm\u001b[0m \u001b[0;34m/=\u001b[0m \u001b[0mblm\u001b[0m\u001b[0;34m[\u001b[0m\u001b[0;36m0\u001b[0m\u001b[0;34m,\u001b[0m\u001b[0;36m0\u001b[0m\u001b[0;34m]\u001b[0m\u001b[0;34m\u001b[0m\u001b[0m\n",
      "\u001b[0;31mValueError\u001b[0m: operands could not be broadcast together with shapes (1,321201) (801,) (1,321201) "
     ]
    },
    {
     "data": {
      "image/png": "[encoded data removed]",
      "text/plain": [
       "<matplotlib.figure.Figure at 0x10b933550>"
      ]
     },
     "metadata": {},
     "output_type": "display_data"
    }
   ],
   "source": [
    "# init plot                                                                              \n",
    "fig, (ax1, ax2) = plt.subplots(2, 1, sharex=True)\n",
    "\n",
    "ax1.plot(ss.tod, label='sym. Gaussian', linewidth=0.7)\n",
    "gauss_tod = ss.tod.copy()\n",
    "\n",
    "# Generate timestreams with elliptical Gaussian beams and plot them                      \n",
    "ss.beams[0][0].btype = 'EG'\n",
    "ss.scan_instrument_mpi(alm, verbose=1, ra0=ra0, dec0=dec0, az_throw=az_throw,\n",
    "                       nside_spin=nside_spin, max_spin=mmax, binning=False)\n",
    "ax1.plot(ss.tod, label='ell. Gaussian', linewidth=0.7)\n",
    "\n",
    "eg_tod = ss.tod.copy()\n",
    "\n",
    "# Generate timestreams with Physical Optics beams and plot them                          \n",
    "ss.beams[0][0].btype = 'PO'\n",
    "ss.scan_instrument_mpi(alm, verbose=1, ra0=ra0, dec0=dec0, az_throw=az_throw,\n",
    "                       nside_spin=nside_spin, max_spin=mmax, binning=False)\n",
    "\n",
    "ax1.plot(ss.tod, label='PO', linewidth=0.7)\n",
    "\n",
    "po_tod = ss.tod.copy()\n",
    "\n",
    "ax2.plot(eg_tod - gauss_tod, label='EG - G', linewidth=0.7)\n",
    "ax2.plot(po_tod - gauss_tod, label='PO - G', linewidth=0.7)\n",
    "\n",
    "ax1.legend()\n",
    "ax2.legend()\n",
    "ax1.set_ylabel(r'Signal [$\\mu K_{\\mathrm{CMB}}$]')\n",
    "ax2.set_ylabel(r'Difference [$\\mu K_{\\mathrm{CMB}}$]')\n",
    "ax2.set_xlabel('Sample number')"
   ]
  }
 ],
 "metadata": {
  "kernelspec": {
   "display_name": "Python [Root]",
   "language": "python",
   "name": "Python [Root]"
  },
  "language_info": {
   "codemirror_mode": {
    "name": "ipython",
    "version": 2
   },
   "file_extension": ".py",
   "mimetype": "text/x-python",
   "name": "python",
   "nbconvert_exporter": "python",
   "pygments_lexer": "ipython2",
   "version": "2.7.12"
  }
 },
 "nbformat": 4,
 "nbformat_minor": 0
}
